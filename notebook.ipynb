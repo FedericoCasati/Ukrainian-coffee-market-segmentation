{
 "cells": [
  {
   "cell_type": "markdown",
   "id": "forward-garden",
   "metadata": {
    "id": "bA5ajAmk7XH6",
    "tags": []
   },
   "source": [
    "# DataCamp Certification Case Study\n",
    "\n",
    "### Project Brief\n",
    "\n",
    "You are on the data science team for Java June, a coffee company looking to expand its business into Ukraine. However, the pandemic has changed how people buy coffee. In some countries, the number of coffee shops offering delivery has increased by 240%. Understanding how the pandemic has affected the Ukrainian coffee market will be critical to success.\n",
    "\n",
    "You have a dataset from Google businesses. It contains information about coffee shops in Ukraine. The marketing manager wants to identify the key coffee shop segments. They will use this to construct their marketing plan. In their current location, they split the market into five segments. The marketing manager wants to know how many segments are in this new market and their key features. \n",
    "\n",
    "You will need to present your findings in two formats:\n",
    "- You must submit a written report summarising your analysis to your manager. As a data science manager, your manager has a strong technical background and wants to understand what you have done and why. \n",
    "- You will then need to share your findings with the marking manager in a 10 minute presentation. The marketing manager has no data science background but is familiar with basic data related terminology. \n",
    "\n",
    "The data you will use for this analysis can be accessed here: `\"data/coffee_shops.csv\"`"
   ]
  },
  {
   "cell_type": "markdown",
   "id": "518ca200-aeb7-4b15-a197-c0300c0ee8c7",
   "metadata": {
    "tags": []
   },
   "source": [
    "## Getting started"
   ]
  },
  {
   "cell_type": "markdown",
   "id": "7540b85c-af25-428d-bb9e-5144a8c0ff57",
   "metadata": {
    "tags": []
   },
   "source": [
    "### Principal steps"
   ]
  },
  {
   "cell_type": "markdown",
   "id": "1f7e2b0e-7dd9-4eab-92b9-c50470c83ccd",
   "metadata": {},
   "source": [
    "Since we are not interested in predicting any target variable, but are rather interested in understanding how we can subdivide the Ukrainian coffee shop market (number of segments and their key characteristics), we are dealing with a clustering problem. We will proceed as follows: \n",
    "1. First, we will make the small adjustments to the dataset necessary to proceed with the exploratory analysis. \n",
    "2. Then, through EDA, we will try to discover any patterns related to missing values, numeric and categorical variables. \n",
    "3. Based on what emerged from the exploratory analysis, we will be able to conduct the feature engineering phase and ...\n",
    "4. ... implement the clustering models (we will try both K-Means and Hierarchical clustering) and try to understand how clusters are built. \n",
    "5. Finally, we will interpret the results obtained in light of the business requirements in order to obtain useful insights."
   ]
  },
  {
   "cell_type": "markdown",
   "id": "fea58d1c-f005-4c20-bda1-37dbc0eca184",
   "metadata": {
    "tags": []
   },
   "source": [
    "### Loading libraries"
   ]
  },
  {
   "cell_type": "code",
   "execution_count": 51,
   "id": "047c6466-ea82-438e-8521-36782653e25d",
   "metadata": {},
   "outputs": [],
   "source": [
    "import pandas as pd\n",
    "import matplotlib.pyplot as plt\n",
    "import seaborn as sns\n",
    "import numpy as np\n",
    "\n",
    "from sklearn.preprocessing import MinMaxScaler\n",
    "\n",
    "from scipy.cluster.hierarchy import linkage, fcluster\n",
    "from scipy.cluster.hierarchy import dendrogram\n",
    "\n",
    "from sklearn.cluster import KMeans"
   ]
  },
  {
   "cell_type": "markdown",
   "id": "90f84e7d-2a72-4393-8502-96da5bf675db",
   "metadata": {
    "tags": []
   },
   "source": [
    "### Importing the dataset, displaying its shape, summary statistics and head"
   ]
  },
  {
   "cell_type": "code",
   "execution_count": 52,
   "id": "7067f824-b001-462c-88a8-21561aed5501",
   "metadata": {},
   "outputs": [
    {
     "name": "stdout",
     "output_type": "stream",
     "text": [
      "(200, 9)\n",
      "           Rating       Reviews\n",
      "count  198.000000    198.000000\n",
      "mean     4.663636    622.494949\n",
      "std      0.221648   1400.898666\n",
      "min      3.900000      3.000000\n",
      "25%      4.600000     47.500000\n",
      "50%      4.700000    271.500000\n",
      "75%      4.800000    786.250000\n",
      "max      5.000000  17937.000000\n"
     ]
    },
    {
     "data": {
      "text/html": [
       "<div>\n",
       "<style scoped>\n",
       "    .dataframe tbody tr th:only-of-type {\n",
       "        vertical-align: middle;\n",
       "    }\n",
       "\n",
       "    .dataframe tbody tr th {\n",
       "        vertical-align: top;\n",
       "    }\n",
       "\n",
       "    .dataframe thead th {\n",
       "        text-align: right;\n",
       "    }\n",
       "</style>\n",
       "<table border=\"1\" class=\"dataframe\">\n",
       "  <thead>\n",
       "    <tr style=\"text-align: right;\">\n",
       "      <th></th>\n",
       "      <th>Region</th>\n",
       "      <th>Place name</th>\n",
       "      <th>Place type</th>\n",
       "      <th>Rating</th>\n",
       "      <th>Reviews</th>\n",
       "      <th>Price</th>\n",
       "      <th>Delivery option</th>\n",
       "      <th>Dine in option</th>\n",
       "      <th>Takeout option</th>\n",
       "    </tr>\n",
       "  </thead>\n",
       "  <tbody>\n",
       "    <tr>\n",
       "      <th>0</th>\n",
       "      <td>Mariupol</td>\n",
       "      <td>Dim Kavu</td>\n",
       "      <td>Coffee store</td>\n",
       "      <td>4.6</td>\n",
       "      <td>206.0</td>\n",
       "      <td>NaN</td>\n",
       "      <td>NaN</td>\n",
       "      <td>NaN</td>\n",
       "      <td>NaN</td>\n",
       "    </tr>\n",
       "    <tr>\n",
       "      <th>1</th>\n",
       "      <td>Mariupol</td>\n",
       "      <td>Коферум</td>\n",
       "      <td>Cafe</td>\n",
       "      <td>5.0</td>\n",
       "      <td>24.0</td>\n",
       "      <td>$$</td>\n",
       "      <td>False</td>\n",
       "      <td>NaN</td>\n",
       "      <td>True</td>\n",
       "    </tr>\n",
       "    <tr>\n",
       "      <th>2</th>\n",
       "      <td>Mariupol</td>\n",
       "      <td>Кофейня Світ Чаю</td>\n",
       "      <td>Coffee shop</td>\n",
       "      <td>5.0</td>\n",
       "      <td>11.0</td>\n",
       "      <td>NaN</td>\n",
       "      <td>NaN</td>\n",
       "      <td>NaN</td>\n",
       "      <td>True</td>\n",
       "    </tr>\n",
       "    <tr>\n",
       "      <th>3</th>\n",
       "      <td>Mariupol</td>\n",
       "      <td>Кофейня Starcoff</td>\n",
       "      <td>Coffee shop</td>\n",
       "      <td>4.4</td>\n",
       "      <td>331.0</td>\n",
       "      <td>$$</td>\n",
       "      <td>False</td>\n",
       "      <td>True</td>\n",
       "      <td>True</td>\n",
       "    </tr>\n",
       "    <tr>\n",
       "      <th>4</th>\n",
       "      <td>Mariupol</td>\n",
       "      <td>Кофейня \"Friend Zone\"</td>\n",
       "      <td>Coffee shop</td>\n",
       "      <td>5.0</td>\n",
       "      <td>12.0</td>\n",
       "      <td>NaN</td>\n",
       "      <td>NaN</td>\n",
       "      <td>True</td>\n",
       "      <td>True</td>\n",
       "    </tr>\n",
       "  </tbody>\n",
       "</table>\n",
       "</div>"
      ],
      "text/plain": [
       "     Region             Place name    Place type  Rating  Reviews Price  \\\n",
       "0  Mariupol               Dim Kavu  Coffee store     4.6    206.0   NaN   \n",
       "1  Mariupol                Коферум          Cafe     5.0     24.0    $$   \n",
       "2  Mariupol       Кофейня Світ Чаю   Coffee shop     5.0     11.0   NaN   \n",
       "3  Mariupol       Кофейня Starcoff   Coffee shop     4.4    331.0    $$   \n",
       "4  Mariupol  Кофейня \"Friend Zone\"   Coffee shop     5.0     12.0   NaN   \n",
       "\n",
       "  Delivery option Dine in option Takeout option  \n",
       "0             NaN            NaN            NaN  \n",
       "1           False            NaN           True  \n",
       "2             NaN            NaN           True  \n",
       "3           False           True           True  \n",
       "4             NaN           True           True  "
      ]
     },
     "execution_count": 52,
     "metadata": {},
     "output_type": "execute_result"
    }
   ],
   "source": [
    "df = pd.read_csv('data/coffee_shops.csv')\n",
    "\n",
    "print(df.shape)\n",
    "print(df.describe())\n",
    "df.head()"
   ]
  },
  {
   "cell_type": "markdown",
   "id": "6e62a6f5-ef77-4852-9207-41ea905ee433",
   "metadata": {
    "tags": []
   },
   "source": [
    "### Checking data types and missing values"
   ]
  },
  {
   "cell_type": "code",
   "execution_count": 53,
   "id": "ed1d3e8e-0edb-4985-b326-488548d961d8",
   "metadata": {},
   "outputs": [
    {
     "name": "stdout",
     "output_type": "stream",
     "text": [
      "<class 'pandas.core.frame.DataFrame'>\n",
      "RangeIndex: 200 entries, 0 to 199\n",
      "Data columns (total 9 columns):\n",
      " #   Column           Non-Null Count  Dtype  \n",
      "---  ------           --------------  -----  \n",
      " 0   Region           200 non-null    object \n",
      " 1   Place name       200 non-null    object \n",
      " 2   Place type       200 non-null    object \n",
      " 3   Rating           198 non-null    float64\n",
      " 4   Reviews          198 non-null    float64\n",
      " 5   Price            122 non-null    object \n",
      " 6   Delivery option  129 non-null    object \n",
      " 7   Dine in option   140 non-null    object \n",
      " 8   Takeout option   144 non-null    object \n",
      "dtypes: float64(2), object(7)\n",
      "memory usage: 14.2+ KB\n"
     ]
    }
   ],
   "source": [
    "df.info()"
   ]
  },
  {
   "cell_type": "code",
   "execution_count": 54,
   "id": "cb9ab85b-e164-45d7-992b-3711fb51f93e",
   "metadata": {},
   "outputs": [
    {
     "name": "stdout",
     "output_type": "stream",
     "text": [
      "Unique values in \"Rating\":  [4.6 5.  4.4 4.8 4.9 4.5 4.2 4.7 4.3 4.1 nan 4.  3.9]\n",
      "Unique values in \"Price\":  [nan '$$' '$' '$$$']\n",
      "Unique values in \"Delivery option\":  [nan False True]\n",
      "Unique values in \"Dine in option\":  [nan True]\n",
      "Unique values in \"Takeout option\":  [nan True]\n"
     ]
    }
   ],
   "source": [
    "print('Unique values in \"Rating\": ', df['Rating'].unique())\n",
    "print('Unique values in \"Price\": ', df['Price'].unique())\n",
    "print('Unique values in \"Delivery option\": ', df['Delivery option'].unique())\n",
    "print('Unique values in \"Dine in option\": ', df['Dine in option'].unique())\n",
    "print('Unique values in \"Takeout option\": ', df['Takeout option'].unique())"
   ]
  },
  {
   "cell_type": "markdown",
   "id": "9fa01586-93f7-4447-af30-d372ce3d7636",
   "metadata": {},
   "source": [
    "#### Missing values in \"Dine in option\" and \"Takeout option\" features are not proper missing values since there are no \"False\" labels in them (differently from \"Delivery option\"). We can assume that missing values in those features actually indicate the \"False\" label so we can proceed fixing this issue before proceeding with our analysis."
   ]
  },
  {
   "cell_type": "markdown",
   "id": "1f2c7f9c-42c1-419b-a5ed-13a6995a2a62",
   "metadata": {
    "tags": []
   },
   "source": [
    "### Fixing improper missing values in 'Dine in option' and 'Takeout option'"
   ]
  },
  {
   "cell_type": "code",
   "execution_count": 55,
   "id": "49b546b0-c36b-48fd-ae3e-566b9c8de49a",
   "metadata": {},
   "outputs": [],
   "source": [
    "df['Dine in option'] = np.where(df['Dine in option'].isna(), False, True)\n",
    "df['Takeout option'] = np.where(df['Takeout option'].isna(), False, True)"
   ]
  },
  {
   "cell_type": "code",
   "execution_count": 56,
   "id": "ff2cef30-0e5e-4ea3-a82a-1e07adb6ba55",
   "metadata": {},
   "outputs": [
    {
     "name": "stdout",
     "output_type": "stream",
     "text": [
      "[False  True]\n",
      "[False  True]\n",
      "<class 'pandas.core.frame.DataFrame'>\n",
      "RangeIndex: 200 entries, 0 to 199\n",
      "Data columns (total 9 columns):\n",
      " #   Column           Non-Null Count  Dtype  \n",
      "---  ------           --------------  -----  \n",
      " 0   Region           200 non-null    object \n",
      " 1   Place name       200 non-null    object \n",
      " 2   Place type       200 non-null    object \n",
      " 3   Rating           198 non-null    float64\n",
      " 4   Reviews          198 non-null    float64\n",
      " 5   Price            122 non-null    object \n",
      " 6   Delivery option  129 non-null    object \n",
      " 7   Dine in option   200 non-null    bool   \n",
      " 8   Takeout option   200 non-null    bool   \n",
      "dtypes: bool(2), float64(2), object(5)\n",
      "memory usage: 11.5+ KB\n"
     ]
    }
   ],
   "source": [
    "print(df['Dine in option'].unique())\n",
    "print(df['Takeout option'].unique())\n",
    "\n",
    "df.info()"
   ]
  },
  {
   "cell_type": "markdown",
   "id": "df1c1553-dc2e-4001-9bf4-0ccf19adaf81",
   "metadata": {},
   "source": [
    "#### We cannot fix the data type of the 'Delivery option' feature and transform it to boolean, otherwise missing values will be mismanaged and turned to 'True'."
   ]
  },
  {
   "cell_type": "markdown",
   "id": "86598217-f45e-4b97-9408-534ce6aa2b5a",
   "metadata": {
    "tags": []
   },
   "source": [
    "### Replacing dollar signs in 'Price' column with 'Low', 'Medium' and 'High' (to avoid problems during the data visualization part)"
   ]
  },
  {
   "cell_type": "code",
   "execution_count": 57,
   "id": "fbee04cf-2c00-4c9f-a50d-4f2d1a20911d",
   "metadata": {},
   "outputs": [
    {
     "data": {
      "text/html": [
       "<div>\n",
       "<style scoped>\n",
       "    .dataframe tbody tr th:only-of-type {\n",
       "        vertical-align: middle;\n",
       "    }\n",
       "\n",
       "    .dataframe tbody tr th {\n",
       "        vertical-align: top;\n",
       "    }\n",
       "\n",
       "    .dataframe thead th {\n",
       "        text-align: right;\n",
       "    }\n",
       "</style>\n",
       "<table border=\"1\" class=\"dataframe\">\n",
       "  <thead>\n",
       "    <tr style=\"text-align: right;\">\n",
       "      <th></th>\n",
       "      <th>Region</th>\n",
       "      <th>Place name</th>\n",
       "      <th>Place type</th>\n",
       "      <th>Rating</th>\n",
       "      <th>Reviews</th>\n",
       "      <th>Price</th>\n",
       "      <th>Delivery option</th>\n",
       "      <th>Dine in option</th>\n",
       "      <th>Takeout option</th>\n",
       "    </tr>\n",
       "  </thead>\n",
       "  <tbody>\n",
       "    <tr>\n",
       "      <th>0</th>\n",
       "      <td>Mariupol</td>\n",
       "      <td>Dim Kavu</td>\n",
       "      <td>Coffee store</td>\n",
       "      <td>4.6</td>\n",
       "      <td>206.0</td>\n",
       "      <td>NaN</td>\n",
       "      <td>NaN</td>\n",
       "      <td>False</td>\n",
       "      <td>False</td>\n",
       "    </tr>\n",
       "    <tr>\n",
       "      <th>1</th>\n",
       "      <td>Mariupol</td>\n",
       "      <td>Коферум</td>\n",
       "      <td>Cafe</td>\n",
       "      <td>5.0</td>\n",
       "      <td>24.0</td>\n",
       "      <td>Medium</td>\n",
       "      <td>False</td>\n",
       "      <td>False</td>\n",
       "      <td>True</td>\n",
       "    </tr>\n",
       "    <tr>\n",
       "      <th>2</th>\n",
       "      <td>Mariupol</td>\n",
       "      <td>Кофейня Світ Чаю</td>\n",
       "      <td>Coffee shop</td>\n",
       "      <td>5.0</td>\n",
       "      <td>11.0</td>\n",
       "      <td>NaN</td>\n",
       "      <td>NaN</td>\n",
       "      <td>False</td>\n",
       "      <td>True</td>\n",
       "    </tr>\n",
       "    <tr>\n",
       "      <th>3</th>\n",
       "      <td>Mariupol</td>\n",
       "      <td>Кофейня Starcoff</td>\n",
       "      <td>Coffee shop</td>\n",
       "      <td>4.4</td>\n",
       "      <td>331.0</td>\n",
       "      <td>Medium</td>\n",
       "      <td>False</td>\n",
       "      <td>True</td>\n",
       "      <td>True</td>\n",
       "    </tr>\n",
       "    <tr>\n",
       "      <th>4</th>\n",
       "      <td>Mariupol</td>\n",
       "      <td>Кофейня \"Friend Zone\"</td>\n",
       "      <td>Coffee shop</td>\n",
       "      <td>5.0</td>\n",
       "      <td>12.0</td>\n",
       "      <td>NaN</td>\n",
       "      <td>NaN</td>\n",
       "      <td>True</td>\n",
       "      <td>True</td>\n",
       "    </tr>\n",
       "    <tr>\n",
       "      <th>...</th>\n",
       "      <td>...</td>\n",
       "      <td>...</td>\n",
       "      <td>...</td>\n",
       "      <td>...</td>\n",
       "      <td>...</td>\n",
       "      <td>...</td>\n",
       "      <td>...</td>\n",
       "      <td>...</td>\n",
       "      <td>...</td>\n",
       "    </tr>\n",
       "    <tr>\n",
       "      <th>195</th>\n",
       "      <td>Dnipro</td>\n",
       "      <td>Artist</td>\n",
       "      <td>Restaurant</td>\n",
       "      <td>4.6</td>\n",
       "      <td>963.0</td>\n",
       "      <td>High</td>\n",
       "      <td>NaN</td>\n",
       "      <td>True</td>\n",
       "      <td>True</td>\n",
       "    </tr>\n",
       "    <tr>\n",
       "      <th>196</th>\n",
       "      <td>Dnipro</td>\n",
       "      <td>Dream Cafe</td>\n",
       "      <td>Cafe</td>\n",
       "      <td>4.3</td>\n",
       "      <td>646.0</td>\n",
       "      <td>Medium</td>\n",
       "      <td>False</td>\n",
       "      <td>True</td>\n",
       "      <td>True</td>\n",
       "    </tr>\n",
       "    <tr>\n",
       "      <th>197</th>\n",
       "      <td>Dnipro</td>\n",
       "      <td>РУТА КАФЕ ПП КУЛІЧЕНКО К.І.</td>\n",
       "      <td>Cafe</td>\n",
       "      <td>4.6</td>\n",
       "      <td>16.0</td>\n",
       "      <td>Medium</td>\n",
       "      <td>False</td>\n",
       "      <td>True</td>\n",
       "      <td>True</td>\n",
       "    </tr>\n",
       "    <tr>\n",
       "      <th>198</th>\n",
       "      <td>Dnipro</td>\n",
       "      <td>Ob'yektna Kava</td>\n",
       "      <td>Coffee shop</td>\n",
       "      <td>4.7</td>\n",
       "      <td>599.0</td>\n",
       "      <td>Medium</td>\n",
       "      <td>NaN</td>\n",
       "      <td>True</td>\n",
       "      <td>True</td>\n",
       "    </tr>\n",
       "    <tr>\n",
       "      <th>199</th>\n",
       "      <td>Dnipro</td>\n",
       "      <td>О...МАРАТ КАФЕ ПП ПОЛІСТЕП</td>\n",
       "      <td>Cafe</td>\n",
       "      <td>4.3</td>\n",
       "      <td>341.0</td>\n",
       "      <td>NaN</td>\n",
       "      <td>NaN</td>\n",
       "      <td>True</td>\n",
       "      <td>False</td>\n",
       "    </tr>\n",
       "  </tbody>\n",
       "</table>\n",
       "<p>200 rows × 9 columns</p>\n",
       "</div>"
      ],
      "text/plain": [
       "       Region                   Place name    Place type  Rating  Reviews  \\\n",
       "0    Mariupol                     Dim Kavu  Coffee store     4.6    206.0   \n",
       "1    Mariupol                      Коферум          Cafe     5.0     24.0   \n",
       "2    Mariupol             Кофейня Світ Чаю   Coffee shop     5.0     11.0   \n",
       "3    Mariupol             Кофейня Starcoff   Coffee shop     4.4    331.0   \n",
       "4    Mariupol        Кофейня \"Friend Zone\"   Coffee shop     5.0     12.0   \n",
       "..        ...                          ...           ...     ...      ...   \n",
       "195    Dnipro                       Artist    Restaurant     4.6    963.0   \n",
       "196    Dnipro                   Dream Cafe          Cafe     4.3    646.0   \n",
       "197    Dnipro  РУТА КАФЕ ПП КУЛІЧЕНКО К.І.          Cafe     4.6     16.0   \n",
       "198    Dnipro               Ob'yektna Kava   Coffee shop     4.7    599.0   \n",
       "199    Dnipro   О...МАРАТ КАФЕ ПП ПОЛІСТЕП          Cafe     4.3    341.0   \n",
       "\n",
       "      Price Delivery option  Dine in option  Takeout option  \n",
       "0       NaN             NaN           False           False  \n",
       "1    Medium           False           False            True  \n",
       "2       NaN             NaN           False            True  \n",
       "3    Medium           False            True            True  \n",
       "4       NaN             NaN            True            True  \n",
       "..      ...             ...             ...             ...  \n",
       "195    High             NaN            True            True  \n",
       "196  Medium           False            True            True  \n",
       "197  Medium           False            True            True  \n",
       "198  Medium             NaN            True            True  \n",
       "199     NaN             NaN            True           False  \n",
       "\n",
       "[200 rows x 9 columns]"
      ]
     },
     "execution_count": 57,
     "metadata": {},
     "output_type": "execute_result"
    }
   ],
   "source": [
    "df['Price'] = np.where(df['Price'] == '$', 'Low', df['Price'])\n",
    "df['Price'] = np.where(df['Price'] == '$$', 'Medium', df['Price'])\n",
    "df['Price'] = np.where(df['Price'] == '$$$', 'High', df['Price'])\n",
    "\n",
    "df"
   ]
  },
  {
   "cell_type": "markdown",
   "id": "598ee7fa-a4e1-4ca3-82fb-f3e4254b394e",
   "metadata": {
    "tags": []
   },
   "source": [
    "## Exploratory Data Analysis (EDA)"
   ]
  },
  {
   "cell_type": "markdown",
   "id": "61a3cbc1-08ab-4c4f-b64c-2191c392a921",
   "metadata": {
    "tags": []
   },
   "source": [
    "### Missing values"
   ]
  },
  {
   "cell_type": "markdown",
   "id": "0780cee3-6032-4e73-add1-81f2db9dca79",
   "metadata": {
    "tags": []
   },
   "source": [
    "#### Calculating the percentage of missing values for each feature"
   ]
  },
  {
   "cell_type": "code",
   "execution_count": 58,
   "id": "feb789dc-0086-4d30-9313-5c2dfa0d50ce",
   "metadata": {},
   "outputs": [
    {
     "name": "stdout",
     "output_type": "stream",
     "text": [
      "The \"Rating\" variable has 1.0% of values missing\n",
      "The \"Reviews\" variable has 1.0% of values missing\n",
      "The \"Price\" variable has 39.0% of values missing\n",
      "The \"Delivery option\" variable has 35.5% of values missing\n"
     ]
    }
   ],
   "source": [
    "features_with_na = [feature for feature in df.columns if df[feature].isna().sum() > 1]\n",
    "\n",
    "for feature in features_with_na:\n",
    "    print('The \"{}\" variable has {}% of values missing'.format(feature, round(df[feature].isna().mean()*100, 2)))"
   ]
  },
  {
   "cell_type": "markdown",
   "id": "648b7ea1-842b-4a27-bcbf-1b0e07352a34",
   "metadata": {
    "tags": []
   },
   "source": [
    "#### Exploring potential relationships between the presence of missing values and other features"
   ]
  },
  {
   "cell_type": "markdown",
   "id": "42b8d17c-2856-4f5b-b7e9-ddede54d4d3d",
   "metadata": {
    "tags": []
   },
   "source": [
    "##### Regions"
   ]
  },
  {
   "cell_type": "code",
   "execution_count": 59,
   "id": "ce98a8d4-6ea7-40b9-934f-88642b69a828",
   "metadata": {},
   "outputs": [
    {
     "data": {
      "text/html": [
       "<div>\n",
       "<style scoped>\n",
       "    .dataframe tbody tr th:only-of-type {\n",
       "        vertical-align: middle;\n",
       "    }\n",
       "\n",
       "    .dataframe tbody tr th {\n",
       "        vertical-align: top;\n",
       "    }\n",
       "\n",
       "    .dataframe thead th {\n",
       "        text-align: right;\n",
       "    }\n",
       "</style>\n",
       "<table border=\"1\" class=\"dataframe\">\n",
       "  <thead>\n",
       "    <tr style=\"text-align: right;\">\n",
       "      <th></th>\n",
       "      <th>Place name</th>\n",
       "      <th>Place type</th>\n",
       "      <th>Rating</th>\n",
       "      <th>Reviews</th>\n",
       "      <th>Price</th>\n",
       "      <th>Delivery option</th>\n",
       "      <th>Dine in option</th>\n",
       "      <th>Takeout option</th>\n",
       "    </tr>\n",
       "    <tr>\n",
       "      <th>Region</th>\n",
       "      <th></th>\n",
       "      <th></th>\n",
       "      <th></th>\n",
       "      <th></th>\n",
       "      <th></th>\n",
       "      <th></th>\n",
       "      <th></th>\n",
       "      <th></th>\n",
       "    </tr>\n",
       "  </thead>\n",
       "  <tbody>\n",
       "    <tr>\n",
       "      <th>Dnipro</th>\n",
       "      <td>0.0</td>\n",
       "      <td>0.0</td>\n",
       "      <td>5.0</td>\n",
       "      <td>5.0</td>\n",
       "      <td>40.0</td>\n",
       "      <td>50.0</td>\n",
       "      <td>0.0</td>\n",
       "      <td>0.0</td>\n",
       "    </tr>\n",
       "    <tr>\n",
       "      <th>Kharkiv</th>\n",
       "      <td>0.0</td>\n",
       "      <td>0.0</td>\n",
       "      <td>0.0</td>\n",
       "      <td>0.0</td>\n",
       "      <td>25.0</td>\n",
       "      <td>40.0</td>\n",
       "      <td>0.0</td>\n",
       "      <td>0.0</td>\n",
       "    </tr>\n",
       "    <tr>\n",
       "      <th>Kherson</th>\n",
       "      <td>0.0</td>\n",
       "      <td>0.0</td>\n",
       "      <td>5.0</td>\n",
       "      <td>5.0</td>\n",
       "      <td>40.0</td>\n",
       "      <td>15.0</td>\n",
       "      <td>0.0</td>\n",
       "      <td>0.0</td>\n",
       "    </tr>\n",
       "    <tr>\n",
       "      <th>Khrivoy Rog</th>\n",
       "      <td>0.0</td>\n",
       "      <td>0.0</td>\n",
       "      <td>0.0</td>\n",
       "      <td>0.0</td>\n",
       "      <td>35.0</td>\n",
       "      <td>25.0</td>\n",
       "      <td>0.0</td>\n",
       "      <td>0.0</td>\n",
       "    </tr>\n",
       "    <tr>\n",
       "      <th>Kiev</th>\n",
       "      <td>0.0</td>\n",
       "      <td>0.0</td>\n",
       "      <td>0.0</td>\n",
       "      <td>0.0</td>\n",
       "      <td>50.0</td>\n",
       "      <td>50.0</td>\n",
       "      <td>0.0</td>\n",
       "      <td>0.0</td>\n",
       "    </tr>\n",
       "    <tr>\n",
       "      <th>Lviv</th>\n",
       "      <td>0.0</td>\n",
       "      <td>0.0</td>\n",
       "      <td>0.0</td>\n",
       "      <td>0.0</td>\n",
       "      <td>20.0</td>\n",
       "      <td>20.0</td>\n",
       "      <td>0.0</td>\n",
       "      <td>0.0</td>\n",
       "    </tr>\n",
       "    <tr>\n",
       "      <th>Mariupol</th>\n",
       "      <td>0.0</td>\n",
       "      <td>0.0</td>\n",
       "      <td>0.0</td>\n",
       "      <td>0.0</td>\n",
       "      <td>40.0</td>\n",
       "      <td>40.0</td>\n",
       "      <td>0.0</td>\n",
       "      <td>0.0</td>\n",
       "    </tr>\n",
       "    <tr>\n",
       "      <th>Odessa</th>\n",
       "      <td>0.0</td>\n",
       "      <td>0.0</td>\n",
       "      <td>0.0</td>\n",
       "      <td>0.0</td>\n",
       "      <td>60.0</td>\n",
       "      <td>55.0</td>\n",
       "      <td>0.0</td>\n",
       "      <td>0.0</td>\n",
       "    </tr>\n",
       "    <tr>\n",
       "      <th>Poltava</th>\n",
       "      <td>0.0</td>\n",
       "      <td>0.0</td>\n",
       "      <td>0.0</td>\n",
       "      <td>0.0</td>\n",
       "      <td>35.0</td>\n",
       "      <td>15.0</td>\n",
       "      <td>0.0</td>\n",
       "      <td>0.0</td>\n",
       "    </tr>\n",
       "    <tr>\n",
       "      <th>Zaporozhye</th>\n",
       "      <td>0.0</td>\n",
       "      <td>0.0</td>\n",
       "      <td>0.0</td>\n",
       "      <td>0.0</td>\n",
       "      <td>45.0</td>\n",
       "      <td>45.0</td>\n",
       "      <td>0.0</td>\n",
       "      <td>0.0</td>\n",
       "    </tr>\n",
       "  </tbody>\n",
       "</table>\n",
       "</div>"
      ],
      "text/plain": [
       "             Place name  Place type  Rating  Reviews  Price  Delivery option  \\\n",
       "Region                                                                         \n",
       "Dnipro              0.0         0.0     5.0      5.0   40.0             50.0   \n",
       "Kharkiv             0.0         0.0     0.0      0.0   25.0             40.0   \n",
       "Kherson             0.0         0.0     5.0      5.0   40.0             15.0   \n",
       "Khrivoy Rog         0.0         0.0     0.0      0.0   35.0             25.0   \n",
       "Kiev                0.0         0.0     0.0      0.0   50.0             50.0   \n",
       "Lviv                0.0         0.0     0.0      0.0   20.0             20.0   \n",
       "Mariupol            0.0         0.0     0.0      0.0   40.0             40.0   \n",
       "Odessa              0.0         0.0     0.0      0.0   60.0             55.0   \n",
       "Poltava             0.0         0.0     0.0      0.0   35.0             15.0   \n",
       "Zaporozhye          0.0         0.0     0.0      0.0   45.0             45.0   \n",
       "\n",
       "             Dine in option  Takeout option  \n",
       "Region                                       \n",
       "Dnipro                  0.0             0.0  \n",
       "Kharkiv                 0.0             0.0  \n",
       "Kherson                 0.0             0.0  \n",
       "Khrivoy Rog             0.0             0.0  \n",
       "Kiev                    0.0             0.0  \n",
       "Lviv                    0.0             0.0  \n",
       "Mariupol                0.0             0.0  \n",
       "Odessa                  0.0             0.0  \n",
       "Poltava                 0.0             0.0  \n",
       "Zaporozhye              0.0             0.0  "
      ]
     },
     "execution_count": 59,
     "metadata": {},
     "output_type": "execute_result"
    }
   ],
   "source": [
    "((1-df.groupby('Region', dropna=False).count()/20)*100)"
   ]
  },
  {
   "cell_type": "markdown",
   "id": "6560909f-82e3-45d4-8349-5cf4799727ef",
   "metadata": {},
   "source": [
    "Tab.1: percentage of missing values for each feature by regions"
   ]
  },
  {
   "cell_type": "markdown",
   "id": "9a31896c-4ae0-4677-8a22-f06b085acff9",
   "metadata": {
    "jp-MarkdownHeadingCollapsed": true,
    "tags": []
   },
   "source": [
    "Rating and Reviews: it seems there isn't any relationship between regions and missing values.\n",
    "\n",
    "Price: Odessa, Kiev and Zaporozhye are the regions presenting a higher number of missing values.\n",
    "\n",
    "Delivery option: Odessa, Kiev, Dnipro and Zaporozhye are the regions presenting a higher number of missing values.\n",
    "\n",
    "##### In general, we can state that Odessa, Kiev and Zaporozhye are the regions with the least complete information. On the other hand, Lviv is the region with the most complete information. Let's continue our analysis and check if the presence of missing values really depends on the location region or if there are other factors affecting this dynamic"
   ]
  },
  {
   "cell_type": "markdown",
   "id": "aa59afa0-228b-4381-8bfe-7535c7986dac",
   "metadata": {
    "tags": []
   },
   "source": [
    "##### Place type"
   ]
  },
  {
   "cell_type": "code",
   "execution_count": 60,
   "id": "224e3104-33b5-4993-90e0-07d2682c6c52",
   "metadata": {},
   "outputs": [
    {
     "data": {
      "text/plain": [
       "Place type\n",
       "Coffee shop     97\n",
       "Cafe            58\n",
       "Espresso bar    20\n",
       "Coffee store    11\n",
       "Name: Place name, dtype: int64"
      ]
     },
     "execution_count": 60,
     "metadata": {},
     "output_type": "execute_result"
    }
   ],
   "source": [
    "df.groupby('Place type')['Place name'].count().sort_values(ascending=False).head(4)"
   ]
  },
  {
   "cell_type": "markdown",
   "id": "73e94cfe-1b92-4f40-b899-cd826fb4c8eb",
   "metadata": {},
   "source": [
    "As we could expect, Coffee shops, Cafes, Espresso bars and Coffee stores make 186 out of 200 shops considered (about 93% of the dataset). Therefore, we will consider only those type of places when analysing their relationships with the presence of missing values."
   ]
  },
  {
   "cell_type": "code",
   "execution_count": 61,
   "id": "6f5a2450-07dc-4f32-a65d-0ef2e250fbe1",
   "metadata": {
    "tags": []
   },
   "outputs": [
    {
     "data": {
      "text/html": [
       "<div>\n",
       "<style scoped>\n",
       "    .dataframe tbody tr th:only-of-type {\n",
       "        vertical-align: middle;\n",
       "    }\n",
       "\n",
       "    .dataframe tbody tr th {\n",
       "        vertical-align: top;\n",
       "    }\n",
       "\n",
       "    .dataframe thead th {\n",
       "        text-align: right;\n",
       "    }\n",
       "</style>\n",
       "<table border=\"1\" class=\"dataframe\">\n",
       "  <thead>\n",
       "    <tr style=\"text-align: right;\">\n",
       "      <th></th>\n",
       "      <th>Region</th>\n",
       "      <th>Place name</th>\n",
       "      <th>Rating</th>\n",
       "      <th>Reviews</th>\n",
       "      <th>Price</th>\n",
       "      <th>Delivery option</th>\n",
       "      <th>Dine in option</th>\n",
       "      <th>Takeout option</th>\n",
       "    </tr>\n",
       "    <tr>\n",
       "      <th>Place type</th>\n",
       "      <th></th>\n",
       "      <th></th>\n",
       "      <th></th>\n",
       "      <th></th>\n",
       "      <th></th>\n",
       "      <th></th>\n",
       "      <th></th>\n",
       "      <th></th>\n",
       "    </tr>\n",
       "  </thead>\n",
       "  <tbody>\n",
       "    <tr>\n",
       "      <th>Appliance repair service</th>\n",
       "      <td>0.0</td>\n",
       "      <td>0.0</td>\n",
       "      <td>0.00</td>\n",
       "      <td>0.00</td>\n",
       "      <td>100.00</td>\n",
       "      <td>100.00</td>\n",
       "      <td>0.0</td>\n",
       "      <td>0.0</td>\n",
       "    </tr>\n",
       "    <tr>\n",
       "      <th>Cafe</th>\n",
       "      <td>0.0</td>\n",
       "      <td>0.0</td>\n",
       "      <td>1.72</td>\n",
       "      <td>1.72</td>\n",
       "      <td>29.31</td>\n",
       "      <td>32.76</td>\n",
       "      <td>0.0</td>\n",
       "      <td>0.0</td>\n",
       "    </tr>\n",
       "    <tr>\n",
       "      <th>Chocolate shop</th>\n",
       "      <td>0.0</td>\n",
       "      <td>0.0</td>\n",
       "      <td>0.00</td>\n",
       "      <td>0.00</td>\n",
       "      <td>0.00</td>\n",
       "      <td>0.00</td>\n",
       "      <td>0.0</td>\n",
       "      <td>0.0</td>\n",
       "    </tr>\n",
       "    <tr>\n",
       "      <th>Coffee roasters</th>\n",
       "      <td>0.0</td>\n",
       "      <td>0.0</td>\n",
       "      <td>0.00</td>\n",
       "      <td>0.00</td>\n",
       "      <td>100.00</td>\n",
       "      <td>50.00</td>\n",
       "      <td>0.0</td>\n",
       "      <td>0.0</td>\n",
       "    </tr>\n",
       "    <tr>\n",
       "      <th>Coffee shop</th>\n",
       "      <td>0.0</td>\n",
       "      <td>0.0</td>\n",
       "      <td>1.03</td>\n",
       "      <td>1.03</td>\n",
       "      <td>35.05</td>\n",
       "      <td>31.96</td>\n",
       "      <td>0.0</td>\n",
       "      <td>0.0</td>\n",
       "    </tr>\n",
       "    <tr>\n",
       "      <th>Coffee stand</th>\n",
       "      <td>0.0</td>\n",
       "      <td>0.0</td>\n",
       "      <td>0.00</td>\n",
       "      <td>0.00</td>\n",
       "      <td>0.00</td>\n",
       "      <td>100.00</td>\n",
       "      <td>0.0</td>\n",
       "      <td>0.0</td>\n",
       "    </tr>\n",
       "    <tr>\n",
       "      <th>Coffee store</th>\n",
       "      <td>0.0</td>\n",
       "      <td>0.0</td>\n",
       "      <td>0.00</td>\n",
       "      <td>0.00</td>\n",
       "      <td>90.91</td>\n",
       "      <td>45.45</td>\n",
       "      <td>0.0</td>\n",
       "      <td>0.0</td>\n",
       "    </tr>\n",
       "    <tr>\n",
       "      <th>E-commerce service</th>\n",
       "      <td>0.0</td>\n",
       "      <td>0.0</td>\n",
       "      <td>0.00</td>\n",
       "      <td>0.00</td>\n",
       "      <td>100.00</td>\n",
       "      <td>100.00</td>\n",
       "      <td>0.0</td>\n",
       "      <td>0.0</td>\n",
       "    </tr>\n",
       "    <tr>\n",
       "      <th>Espresso bar</th>\n",
       "      <td>0.0</td>\n",
       "      <td>0.0</td>\n",
       "      <td>0.00</td>\n",
       "      <td>0.00</td>\n",
       "      <td>40.00</td>\n",
       "      <td>35.00</td>\n",
       "      <td>0.0</td>\n",
       "      <td>0.0</td>\n",
       "    </tr>\n",
       "    <tr>\n",
       "      <th>European restaurant</th>\n",
       "      <td>0.0</td>\n",
       "      <td>0.0</td>\n",
       "      <td>0.00</td>\n",
       "      <td>0.00</td>\n",
       "      <td>0.00</td>\n",
       "      <td>0.00</td>\n",
       "      <td>0.0</td>\n",
       "      <td>0.0</td>\n",
       "    </tr>\n",
       "    <tr>\n",
       "      <th>Internet shop</th>\n",
       "      <td>0.0</td>\n",
       "      <td>0.0</td>\n",
       "      <td>0.00</td>\n",
       "      <td>0.00</td>\n",
       "      <td>100.00</td>\n",
       "      <td>0.00</td>\n",
       "      <td>0.0</td>\n",
       "      <td>0.0</td>\n",
       "    </tr>\n",
       "    <tr>\n",
       "      <th>Pastry shop</th>\n",
       "      <td>0.0</td>\n",
       "      <td>0.0</td>\n",
       "      <td>0.00</td>\n",
       "      <td>0.00</td>\n",
       "      <td>50.00</td>\n",
       "      <td>50.00</td>\n",
       "      <td>0.0</td>\n",
       "      <td>0.0</td>\n",
       "    </tr>\n",
       "    <tr>\n",
       "      <th>Restaurant</th>\n",
       "      <td>0.0</td>\n",
       "      <td>0.0</td>\n",
       "      <td>0.00</td>\n",
       "      <td>0.00</td>\n",
       "      <td>0.00</td>\n",
       "      <td>100.00</td>\n",
       "      <td>0.0</td>\n",
       "      <td>0.0</td>\n",
       "    </tr>\n",
       "    <tr>\n",
       "      <th>Store</th>\n",
       "      <td>0.0</td>\n",
       "      <td>0.0</td>\n",
       "      <td>0.00</td>\n",
       "      <td>0.00</td>\n",
       "      <td>100.00</td>\n",
       "      <td>100.00</td>\n",
       "      <td>0.0</td>\n",
       "      <td>0.0</td>\n",
       "    </tr>\n",
       "  </tbody>\n",
       "</table>\n",
       "</div>"
      ],
      "text/plain": [
       "                          Region  Place name  Rating  Reviews   Price  \\\n",
       "Place type                                                              \n",
       "Appliance repair service     0.0         0.0    0.00     0.00  100.00   \n",
       "Cafe                         0.0         0.0    1.72     1.72   29.31   \n",
       "Chocolate shop               0.0         0.0    0.00     0.00    0.00   \n",
       "Coffee roasters              0.0         0.0    0.00     0.00  100.00   \n",
       "Coffee shop                  0.0         0.0    1.03     1.03   35.05   \n",
       "Coffee stand                 0.0         0.0    0.00     0.00    0.00   \n",
       "Coffee store                 0.0         0.0    0.00     0.00   90.91   \n",
       "E-commerce service           0.0         0.0    0.00     0.00  100.00   \n",
       "Espresso bar                 0.0         0.0    0.00     0.00   40.00   \n",
       "European restaurant          0.0         0.0    0.00     0.00    0.00   \n",
       "Internet shop                0.0         0.0    0.00     0.00  100.00   \n",
       "Pastry shop                  0.0         0.0    0.00     0.00   50.00   \n",
       "Restaurant                   0.0         0.0    0.00     0.00    0.00   \n",
       "Store                        0.0         0.0    0.00     0.00  100.00   \n",
       "\n",
       "                          Delivery option  Dine in option  Takeout option  \n",
       "Place type                                                                 \n",
       "Appliance repair service           100.00             0.0             0.0  \n",
       "Cafe                                32.76             0.0             0.0  \n",
       "Chocolate shop                       0.00             0.0             0.0  \n",
       "Coffee roasters                     50.00             0.0             0.0  \n",
       "Coffee shop                         31.96             0.0             0.0  \n",
       "Coffee stand                       100.00             0.0             0.0  \n",
       "Coffee store                        45.45             0.0             0.0  \n",
       "E-commerce service                 100.00             0.0             0.0  \n",
       "Espresso bar                        35.00             0.0             0.0  \n",
       "European restaurant                  0.00             0.0             0.0  \n",
       "Internet shop                        0.00             0.0             0.0  \n",
       "Pastry shop                         50.00             0.0             0.0  \n",
       "Restaurant                         100.00             0.0             0.0  \n",
       "Store                              100.00             0.0             0.0  "
      ]
     },
     "execution_count": 61,
     "metadata": {},
     "output_type": "execute_result"
    }
   ],
   "source": [
    "round((df.fillna(' ').groupby('Place type').count() - df.groupby('Place type', dropna=False).count())/(df.fillna(' ').groupby('Place type').count())*100, 2)"
   ]
  },
  {
   "cell_type": "markdown",
   "id": "d0b92e6f-4913-486f-b1d4-bc405b59a017",
   "metadata": {},
   "source": [
    "Tab.2: percentage of missing values for each feature by place types"
   ]
  },
  {
   "cell_type": "markdown",
   "id": "998d826c-2e93-4814-b9a3-0609b2a68fba",
   "metadata": {
    "jp-MarkdownHeadingCollapsed": true,
    "tags": []
   },
   "source": [
    "Coffee shops present a percentage of missing values between 32 to 35%.\n",
    "Cafes present a percentage of missing values between 29 to 33%.\n",
    "Espresso bars present a percentage of missing values between 35 to 40%.\n",
    "Coffee stores present a percentage of missing values between 45 to 91%."
   ]
  },
  {
   "cell_type": "markdown",
   "id": "a387a313-935e-4284-b765-97154e454308",
   "metadata": {
    "tags": []
   },
   "source": [
    "##### Let's check the distribution of place types by regions"
   ]
  },
  {
   "cell_type": "code",
   "execution_count": 62,
   "id": "a2fae955-1b9a-4a05-b0a1-d251ebe9831b",
   "metadata": {},
   "outputs": [
    {
     "data": {
      "text/html": [
       "<div>\n",
       "<style scoped>\n",
       "    .dataframe tbody tr th:only-of-type {\n",
       "        vertical-align: middle;\n",
       "    }\n",
       "\n",
       "    .dataframe tbody tr th {\n",
       "        vertical-align: top;\n",
       "    }\n",
       "\n",
       "    .dataframe thead th {\n",
       "        text-align: right;\n",
       "    }\n",
       "</style>\n",
       "<table border=\"1\" class=\"dataframe\">\n",
       "  <thead>\n",
       "    <tr style=\"text-align: right;\">\n",
       "      <th>Place type</th>\n",
       "      <th>Appliance repair service</th>\n",
       "      <th>Cafe</th>\n",
       "      <th>Chocolate shop</th>\n",
       "      <th>Coffee roasters</th>\n",
       "      <th>Coffee shop</th>\n",
       "      <th>Coffee stand</th>\n",
       "      <th>Coffee store</th>\n",
       "      <th>E-commerce service</th>\n",
       "      <th>Espresso bar</th>\n",
       "      <th>European restaurant</th>\n",
       "      <th>Internet shop</th>\n",
       "      <th>Pastry shop</th>\n",
       "      <th>Restaurant</th>\n",
       "      <th>Store</th>\n",
       "    </tr>\n",
       "    <tr>\n",
       "      <th>Region</th>\n",
       "      <th></th>\n",
       "      <th></th>\n",
       "      <th></th>\n",
       "      <th></th>\n",
       "      <th></th>\n",
       "      <th></th>\n",
       "      <th></th>\n",
       "      <th></th>\n",
       "      <th></th>\n",
       "      <th></th>\n",
       "      <th></th>\n",
       "      <th></th>\n",
       "      <th></th>\n",
       "      <th></th>\n",
       "    </tr>\n",
       "  </thead>\n",
       "  <tbody>\n",
       "    <tr>\n",
       "      <th>Dnipro</th>\n",
       "      <td>0</td>\n",
       "      <td>12</td>\n",
       "      <td>0</td>\n",
       "      <td>0</td>\n",
       "      <td>4</td>\n",
       "      <td>0</td>\n",
       "      <td>1</td>\n",
       "      <td>0</td>\n",
       "      <td>0</td>\n",
       "      <td>0</td>\n",
       "      <td>0</td>\n",
       "      <td>1</td>\n",
       "      <td>1</td>\n",
       "      <td>1</td>\n",
       "    </tr>\n",
       "    <tr>\n",
       "      <th>Kharkiv</th>\n",
       "      <td>0</td>\n",
       "      <td>1</td>\n",
       "      <td>0</td>\n",
       "      <td>0</td>\n",
       "      <td>14</td>\n",
       "      <td>0</td>\n",
       "      <td>2</td>\n",
       "      <td>0</td>\n",
       "      <td>3</td>\n",
       "      <td>0</td>\n",
       "      <td>0</td>\n",
       "      <td>0</td>\n",
       "      <td>0</td>\n",
       "      <td>0</td>\n",
       "    </tr>\n",
       "    <tr>\n",
       "      <th>Kherson</th>\n",
       "      <td>0</td>\n",
       "      <td>5</td>\n",
       "      <td>0</td>\n",
       "      <td>0</td>\n",
       "      <td>12</td>\n",
       "      <td>0</td>\n",
       "      <td>0</td>\n",
       "      <td>0</td>\n",
       "      <td>2</td>\n",
       "      <td>1</td>\n",
       "      <td>0</td>\n",
       "      <td>0</td>\n",
       "      <td>0</td>\n",
       "      <td>0</td>\n",
       "    </tr>\n",
       "    <tr>\n",
       "      <th>Khrivoy Rog</th>\n",
       "      <td>0</td>\n",
       "      <td>15</td>\n",
       "      <td>0</td>\n",
       "      <td>0</td>\n",
       "      <td>3</td>\n",
       "      <td>0</td>\n",
       "      <td>1</td>\n",
       "      <td>0</td>\n",
       "      <td>1</td>\n",
       "      <td>0</td>\n",
       "      <td>0</td>\n",
       "      <td>0</td>\n",
       "      <td>0</td>\n",
       "      <td>0</td>\n",
       "    </tr>\n",
       "    <tr>\n",
       "      <th>Kiev</th>\n",
       "      <td>0</td>\n",
       "      <td>4</td>\n",
       "      <td>0</td>\n",
       "      <td>0</td>\n",
       "      <td>8</td>\n",
       "      <td>0</td>\n",
       "      <td>2</td>\n",
       "      <td>1</td>\n",
       "      <td>5</td>\n",
       "      <td>0</td>\n",
       "      <td>0</td>\n",
       "      <td>0</td>\n",
       "      <td>0</td>\n",
       "      <td>0</td>\n",
       "    </tr>\n",
       "    <tr>\n",
       "      <th>Lviv</th>\n",
       "      <td>0</td>\n",
       "      <td>4</td>\n",
       "      <td>0</td>\n",
       "      <td>1</td>\n",
       "      <td>15</td>\n",
       "      <td>0</td>\n",
       "      <td>0</td>\n",
       "      <td>0</td>\n",
       "      <td>0</td>\n",
       "      <td>0</td>\n",
       "      <td>0</td>\n",
       "      <td>0</td>\n",
       "      <td>0</td>\n",
       "      <td>0</td>\n",
       "    </tr>\n",
       "    <tr>\n",
       "      <th>Mariupol</th>\n",
       "      <td>0</td>\n",
       "      <td>7</td>\n",
       "      <td>0</td>\n",
       "      <td>0</td>\n",
       "      <td>11</td>\n",
       "      <td>0</td>\n",
       "      <td>1</td>\n",
       "      <td>0</td>\n",
       "      <td>1</td>\n",
       "      <td>0</td>\n",
       "      <td>0</td>\n",
       "      <td>0</td>\n",
       "      <td>0</td>\n",
       "      <td>0</td>\n",
       "    </tr>\n",
       "    <tr>\n",
       "      <th>Odessa</th>\n",
       "      <td>0</td>\n",
       "      <td>0</td>\n",
       "      <td>0</td>\n",
       "      <td>1</td>\n",
       "      <td>14</td>\n",
       "      <td>0</td>\n",
       "      <td>1</td>\n",
       "      <td>0</td>\n",
       "      <td>2</td>\n",
       "      <td>0</td>\n",
       "      <td>0</td>\n",
       "      <td>1</td>\n",
       "      <td>0</td>\n",
       "      <td>1</td>\n",
       "    </tr>\n",
       "    <tr>\n",
       "      <th>Poltava</th>\n",
       "      <td>0</td>\n",
       "      <td>5</td>\n",
       "      <td>1</td>\n",
       "      <td>0</td>\n",
       "      <td>10</td>\n",
       "      <td>0</td>\n",
       "      <td>2</td>\n",
       "      <td>0</td>\n",
       "      <td>2</td>\n",
       "      <td>0</td>\n",
       "      <td>0</td>\n",
       "      <td>0</td>\n",
       "      <td>0</td>\n",
       "      <td>0</td>\n",
       "    </tr>\n",
       "    <tr>\n",
       "      <th>Zaporozhye</th>\n",
       "      <td>1</td>\n",
       "      <td>5</td>\n",
       "      <td>0</td>\n",
       "      <td>0</td>\n",
       "      <td>6</td>\n",
       "      <td>1</td>\n",
       "      <td>1</td>\n",
       "      <td>0</td>\n",
       "      <td>4</td>\n",
       "      <td>0</td>\n",
       "      <td>1</td>\n",
       "      <td>0</td>\n",
       "      <td>0</td>\n",
       "      <td>1</td>\n",
       "    </tr>\n",
       "  </tbody>\n",
       "</table>\n",
       "</div>"
      ],
      "text/plain": [
       "Place type   Appliance repair service  Cafe  Chocolate shop  Coffee roasters  \\\n",
       "Region                                                                         \n",
       "Dnipro                              0    12               0                0   \n",
       "Kharkiv                             0     1               0                0   \n",
       "Kherson                             0     5               0                0   \n",
       "Khrivoy Rog                         0    15               0                0   \n",
       "Kiev                                0     4               0                0   \n",
       "Lviv                                0     4               0                1   \n",
       "Mariupol                            0     7               0                0   \n",
       "Odessa                              0     0               0                1   \n",
       "Poltava                             0     5               1                0   \n",
       "Zaporozhye                          1     5               0                0   \n",
       "\n",
       "Place type   Coffee shop  Coffee stand  Coffee store  E-commerce service  \\\n",
       "Region                                                                     \n",
       "Dnipro                 4             0             1                   0   \n",
       "Kharkiv               14             0             2                   0   \n",
       "Kherson               12             0             0                   0   \n",
       "Khrivoy Rog            3             0             1                   0   \n",
       "Kiev                   8             0             2                   1   \n",
       "Lviv                  15             0             0                   0   \n",
       "Mariupol              11             0             1                   0   \n",
       "Odessa                14             0             1                   0   \n",
       "Poltava               10             0             2                   0   \n",
       "Zaporozhye             6             1             1                   0   \n",
       "\n",
       "Place type   Espresso bar  European restaurant  Internet shop  Pastry shop  \\\n",
       "Region                                                                       \n",
       "Dnipro                  0                    0              0            1   \n",
       "Kharkiv                 3                    0              0            0   \n",
       "Kherson                 2                    1              0            0   \n",
       "Khrivoy Rog             1                    0              0            0   \n",
       "Kiev                    5                    0              0            0   \n",
       "Lviv                    0                    0              0            0   \n",
       "Mariupol                1                    0              0            0   \n",
       "Odessa                  2                    0              0            1   \n",
       "Poltava                 2                    0              0            0   \n",
       "Zaporozhye              4                    0              1            0   \n",
       "\n",
       "Place type   Restaurant  Store  \n",
       "Region                          \n",
       "Dnipro                1      1  \n",
       "Kharkiv               0      0  \n",
       "Kherson               0      0  \n",
       "Khrivoy Rog           0      0  \n",
       "Kiev                  0      0  \n",
       "Lviv                  0      0  \n",
       "Mariupol              0      0  \n",
       "Odessa                0      1  \n",
       "Poltava               0      0  \n",
       "Zaporozhye            0      1  "
      ]
     },
     "execution_count": 62,
     "metadata": {},
     "output_type": "execute_result"
    }
   ],
   "source": [
    "pd.crosstab(df['Region'], df['Place type'])"
   ]
  },
  {
   "cell_type": "markdown",
   "id": "72ad2337-e8ec-43fc-b9b5-a6d682e767f2",
   "metadata": {},
   "source": [
    "Tab.3: number of shops by regions and place types"
   ]
  },
  {
   "cell_type": "markdown",
   "id": "24db94c5-50be-4553-b449-4343d92695f7",
   "metadata": {
    "tags": []
   },
   "source": [
    "##### Kiev and Zaporozhye are the regions having more espresso bars. Lviv is the only region having neither a coffe store nor an espresso bar.\n",
    "#### In general, we can conclude that the presence of missing values depends more on the place type than on the region of location."
   ]
  },
  {
   "cell_type": "markdown",
   "id": "6cf38794-5244-45c2-be51-5e01a0bcf8d0",
   "metadata": {
    "tags": []
   },
   "source": [
    "### Numerical variables"
   ]
  },
  {
   "cell_type": "markdown",
   "id": "393b3c55-d60b-4a86-9ec3-ddccdf9c258d",
   "metadata": {
    "tags": []
   },
   "source": [
    "#### Rating"
   ]
  },
  {
   "cell_type": "markdown",
   "id": "faa8020c-cc1d-481a-aecb-f198a8b0e80f",
   "metadata": {
    "tags": []
   },
   "source": [
    "##### Distribution"
   ]
  },
  {
   "cell_type": "code",
   "execution_count": 63,
   "id": "508c0462-6cac-48f7-a020-f60ba09b8200",
   "metadata": {},
   "outputs": [
    {
     "data": {
      "text/plain": [
       "<AxesSubplot:xlabel='Rating', ylabel='Density'>"
      ]
     },
     "execution_count": 63,
     "metadata": {},
     "output_type": "execute_result"
    },
    {
     "data": {
      "image/png": "[encoded data removed]",
      "text/plain": [
       "<Figure size 432x288 with 1 Axes>"
      ]
     },
     "metadata": {
      "needs_background": "light"
     },
     "output_type": "display_data"
    }
   ],
   "source": [
    "sns.distplot(df['Rating'], bins=15)"
   ]
  },
  {
   "cell_type": "markdown",
   "id": "436fad63-52ae-482b-a061-8591291fd03e",
   "metadata": {
    "tags": []
   },
   "source": [
    "##### vs categorical features (from now on, for a correct visualization, we will group the shops that do not fall within the first 4 place types under the name of 'others')"
   ]
  },
  {
   "cell_type": "code",
   "execution_count": 64,
   "id": "bedacc17-5512-46ef-8682-8bedea15bf4d",
   "metadata": {},
   "outputs": [
    {
     "data": {
      "image/png": "[encoded data removed]",
      "text/plain": [
       "<Figure size 720x576 with 1 Axes>"
      ]
     },
     "metadata": {
      "needs_background": "light"
     },
     "output_type": "display_data"
    },
    {
     "data": {
      "image/png": "[encoded data removed]",
      "text/plain": [
       "<Figure size 720x576 with 1 Axes>"
      ]
     },
     "metadata": {
      "needs_background": "light"
     },
     "output_type": "display_data"
    },
    {
     "data": {
      "image/png": "[encoded data removed]",
      "text/plain": [
       "<Figure size 720x576 with 1 Axes>"
      ]
     },
     "metadata": {
      "needs_background": "light"
     },
     "output_type": "display_data"
    },
    {
     "data": {
      "image/png": "[encoded data removed]",
      "text/plain": [
       "<Figure size 720x576 with 1 Axes>"
      ]
     },
     "metadata": {
      "needs_background": "light"
     },
     "output_type": "display_data"
    },
    {
     "data": {
      "image/png": "[encoded data removed]",
      "text/plain": [
       "<Figure size 720x576 with 1 Axes>"
      ]
     },
     "metadata": {
      "needs_background": "light"
     },
     "output_type": "display_data"
    },
    {
     "data": {
      "image/png": "[encoded data removed]",
      "text/plain": [
       "<Figure size 720x576 with 1 Axes>"
      ]
     },
     "metadata": {
      "needs_background": "light"
     },
     "output_type": "display_data"
    }
   ],
   "source": [
    "categorical_features = [feature for feature in df.columns if df[feature].dtype!='float' and 'Place name' not in feature]\n",
    "types = ['Coffee shop', 'Cafe', 'Espresso bar', 'Coffee store']\n",
    "\n",
    "for feature in categorical_features:\n",
    "    plt.figure(figsize=(10, 8))\n",
    "    dataset = df.copy()\n",
    "    dataset['Place type'] = np.where(dataset['Place type'].isin(types), dataset['Place type'], 'Other')\n",
    "    dataset[feature] = np.where(dataset[feature].isna(), 'Unknown', dataset[feature])\n",
    "    sns.boxplot(x = feature, y = 'Rating', data = dataset)\n",
    "    plt.xlabel(feature)\n",
    "    plt.ylabel('Rating')\n",
    "    plt.show()"
   ]
  },
  {
   "cell_type": "markdown",
   "id": "fe4fdf44-c236-4e53-bf10-b295b5108755",
   "metadata": {},
   "source": [
    "Region: it seems that shops in Kiev and Odessa are better reviewed.\n",
    "\n",
    "Place type: it seems that shops whose type is different from coffee store, coffee shop, espresso bar and cafes are better reviewed. Anyway, there are only 14 out of 200 shops in this category so the fact that they obtain a higher rating is not statistically reliable.\n",
    "\n",
    "Price: it seems that shops whose price category is unknown are better reviewed.\n",
    "\n",
    "Delivery option: it seems that shops whose delivery option is unknown are better reviewed.\n",
    "\n",
    "Dine in option: it seems that shops which do not offer a dine-in option are better reviewed.\n",
    "\n",
    "Takeout option: it seems that shops which do not offer a takeout option are better reviewed."
   ]
  },
  {
   "cell_type": "markdown",
   "id": "4dc24574-9478-4b41-8403-b4dadf435c47",
   "metadata": {
    "tags": []
   },
   "source": [
    "##### vs # of reviews"
   ]
  },
  {
   "cell_type": "code",
   "execution_count": 65,
   "id": "d9648084-95d9-41c7-bc10-d0cf094a695f",
   "metadata": {
    "tags": []
   },
   "outputs": [
    {
     "data": {
      "image/png": "[encoded data removed]",
      "text/plain": [
       "<Figure size 720x576 with 1 Axes>"
      ]
     },
     "metadata": {
      "needs_background": "light"
     },
     "output_type": "display_data"
    }
   ],
   "source": [
    "plt.figure(figsize=(10, 8))\n",
    "sns.scatterplot(x='Reviews', y='Rating', data = df)\n",
    "plt.xlabel('# of reviews')\n",
    "plt.ylabel('Rating')\n",
    "plt.show()"
   ]
  },
  {
   "cell_type": "markdown",
   "id": "596b5f5e-add9-40b0-b745-f1040af5a84c",
   "metadata": {
    "tags": []
   },
   "source": [
    "It seems that shops with a higher number of reviews mostly receive ratings between 4.5 to 4.7."
   ]
  },
  {
   "cell_type": "markdown",
   "id": "fb301929-ff9e-4a28-a648-d68e062cea5a",
   "metadata": {
    "tags": []
   },
   "source": [
    "#### # of Reviews (just for the purpose of not getting distorted plots, we will exclude a Lviv store that has more than 17500 reviews)"
   ]
  },
  {
   "cell_type": "markdown",
   "id": "fb3ca640-2c7f-4627-973c-bf60635117bb",
   "metadata": {
    "tags": []
   },
   "source": [
    "##### Distribution"
   ]
  },
  {
   "cell_type": "code",
   "execution_count": 66,
   "id": "c2cfd898-07f6-4d76-984d-768c9f1b6e7f",
   "metadata": {},
   "outputs": [
    {
     "data": {
      "text/plain": [
       "<AxesSubplot:xlabel='Reviews', ylabel='Density'>"
      ]
     },
     "execution_count": 66,
     "metadata": {},
     "output_type": "execute_result"
    },
    {
     "data": {
      "image/png": "[encoded data removed]",
      "text/plain": [
       "<Figure size 432x288 with 1 Axes>"
      ]
     },
     "metadata": {
      "needs_background": "light"
     },
     "output_type": "display_data"
    }
   ],
   "source": [
    "sns.distplot(df[df['Reviews']<17500]['Reviews'])"
   ]
  },
  {
   "cell_type": "markdown",
   "id": "2299f18c-e4d2-40bd-8eb5-0790d53f6d5b",
   "metadata": {
    "tags": []
   },
   "source": [
    "##### vs categorical features (we have already analyzed the relationship between rating and # of reviews)"
   ]
  },
  {
   "cell_type": "code",
   "execution_count": 67,
   "id": "4d63533c-4c77-4c8d-a04a-841d1b5ce7ed",
   "metadata": {},
   "outputs": [
    {
     "data": {
      "image/png": "[encoded data removed]",
      "text/plain": [
       "<Figure size 720x576 with 1 Axes>"
      ]
     },
     "metadata": {
      "needs_background": "light"
     },
     "output_type": "display_data"
    },
    {
     "data": {
      "image/png": "[encoded data removed]",
      "text/plain": [
       "<Figure size 720x576 with 1 Axes>"
      ]
     },
     "metadata": {
      "needs_background": "light"
     },
     "output_type": "display_data"
    },
    {
     "data": {
      "image/png": "[encoded data removed]",
      "text/plain": [
       "<Figure size 720x576 with 1 Axes>"
      ]
     },
     "metadata": {
      "needs_background": "light"
     },
     "output_type": "display_data"
    },
    {
     "data": {
      "image/png": "[encoded data removed]",
      "text/plain": [
       "<Figure size 720x576 with 1 Axes>"
      ]
     },
     "metadata": {
      "needs_background": "light"
     },
     "output_type": "display_data"
    },
    {
     "data": {
      "image/png": "[encoded data removed]",
      "text/plain": [
       "<Figure size 720x576 with 1 Axes>"
      ]
     },
     "metadata": {
      "needs_background": "light"
     },
     "output_type": "display_data"
    },
    {
     "data": {
      "image/png": "[encoded data removed]",
      "text/plain": [
       "<Figure size 720x576 with 1 Axes>"
      ]
     },
     "metadata": {
      "needs_background": "light"
     },
     "output_type": "display_data"
    }
   ],
   "source": [
    "for feature in categorical_features:\n",
    "    plt.figure(figsize=(10, 8))\n",
    "    dataset = df[df['Reviews']<17500].copy()\n",
    "    dataset['Place type'] = np.where(dataset['Place type'].isin(types), dataset['Place type'], 'Other')\n",
    "    dataset[feature] = np.where(dataset[feature].isna(), 'Unknown', dataset[feature])\n",
    "    sns.boxplot(x = feature, y = 'Reviews', data = dataset)\n",
    "    plt.xlabel(feature)\n",
    "    plt.ylabel('Reviews')\n",
    "    plt.show()"
   ]
  },
  {
   "cell_type": "markdown",
   "id": "629c08ba-aa8f-4495-9998-7442f1b05031",
   "metadata": {},
   "source": [
    "Region: it seems that Lviv is the region where shops get a higher number of reviews.\n",
    "\n",
    "Place type: there are no significant differences.\n",
    "\n",
    "Price: it seems that shops with a 'high' or 'low' price category get a higher number of reviews than shops with a 'medium' price category. The least reviewed shops are those whose price category is unknown, so the fact that they get a higher rating (as evidenced by previous plots) is not statistically reliable.\n",
    "\n",
    "Delivery option: it seems that shops offering a delivery option get a higher number of reviews than shops not offering it. Regarding shops whose delivery option is unknown, the same as above applies.\n",
    "\n",
    "Dine in option: it seems that shops offering a dine-in option get a higher number of reviews than shops not offering it.\n",
    "\n",
    "Takeout option: it seems that shops offering a takeout option get a higher number of reviews than shops not offering it."
   ]
  },
  {
   "cell_type": "markdown",
   "id": "54cf3159-43f7-4335-adc5-6b766758d33e",
   "metadata": {
    "tags": []
   },
   "source": [
    "### Categorical variables (vs other categorical features, we will not explore the 'categorical vs numerical' relationships again)"
   ]
  },
  {
   "cell_type": "markdown",
   "id": "3d931cf0-7429-40f4-a05b-4889e755129b",
   "metadata": {
    "tags": []
   },
   "source": [
    "#### Place type"
   ]
  },
  {
   "cell_type": "code",
   "execution_count": 68,
   "id": "f44f9c00-b80e-4769-ba88-0a15fca00c99",
   "metadata": {},
   "outputs": [
    {
     "data": {
      "image/png": "[encoded data removed]",
      "text/plain": [
       "<Figure size 720x576 with 1 Axes>"
      ]
     },
     "metadata": {
      "needs_background": "light"
     },
     "output_type": "display_data"
    },
    {
     "data": {
      "image/png": "[encoded data removed]",
      "text/plain": [
       "<Figure size 720x576 with 1 Axes>"
      ]
     },
     "metadata": {
      "needs_background": "light"
     },
     "output_type": "display_data"
    },
    {
     "data": {
      "image/png": "[encoded data removed]",
      "text/plain": [
       "<Figure size 720x576 with 1 Axes>"
      ]
     },
     "metadata": {
      "needs_background": "light"
     },
     "output_type": "display_data"
    },
    {
     "data": {
      "image/png": "[encoded data removed]",
      "text/plain": [
       "<Figure size 720x576 with 1 Axes>"
      ]
     },
     "metadata": {
      "needs_background": "light"
     },
     "output_type": "display_data"
    },
    {
     "data": {
      "image/png": "[encoded data removed]",
      "text/plain": [
       "<Figure size 720x576 with 1 Axes>"
      ]
     },
     "metadata": {
      "needs_background": "light"
     },
     "output_type": "display_data"
    }
   ],
   "source": [
    "categorical_without_place_type = [feature for feature in df.columns if df[feature].dtype!='float' and 'Place name' not in feature and 'Place type' not in feature]\n",
    "\n",
    "for i, feature in enumerate(categorical_without_place_type):\n",
    "    dataset = df.copy()\n",
    "    dataset['Place type'] = np.where(dataset['Place type'].isin(types), dataset['Place type'], 'Other')\n",
    "    dataset[feature] = np.where(dataset[feature].isna(), 'Unknown', dataset[feature])\n",
    "    dataset[feature+'_pct'] = dataset.groupby(['Place type', feature])[feature]\\\n",
    "                                   .transform(lambda x: len(x)) / len(dataset)\n",
    "    plt.figure(figsize=(10, 8))\n",
    "    sns.barplot(x=feature, y=feature+'_pct', hue='Place type', data=dataset).set(xlabel=feature, ylabel='Percent')\n",
    "    plt.show()"
   ]
  },
  {
   "cell_type": "markdown",
   "id": "a65e8067-bef2-4f69-9023-5a8d15d9bf76",
   "metadata": {
    "jp-MarkdownHeadingCollapsed": true,
    "tags": []
   },
   "source": [
    "Region: Generally, coffee shops are the most popular shops, followed by cafes. Shops that fall under the 'other' category are the least popular.\n",
    "\n",
    "Price: Generally, coffee shops and cafes present a 'medium' price category. Cafes and other shops are the only types of shops presenting 'high' price categories, while cafes and espresso bars are the only types of shops presenting 'low' price categories.\n",
    "\n",
    "Delivery option: cafes are the type of shops which are more likely to offer the delivery option, while coffee shops in general do not offer it.\n",
    "\n",
    "Dine in option: cafes and coffee shops generally offer the dine-in option, while the other shops type are almost equally divided.\n",
    "\n",
    "Takeout option: same as above."
   ]
  },
  {
   "cell_type": "markdown",
   "id": "b9294454-88d1-4414-b8fd-724db9e2006a",
   "metadata": {
    "tags": []
   },
   "source": [
    "#### Price"
   ]
  },
  {
   "cell_type": "code",
   "execution_count": 69,
   "id": "034883a8-c417-4799-8728-9e0e5a65bffd",
   "metadata": {},
   "outputs": [
    {
     "data": {
      "image/png": "[encoded data removed]",
      "text/plain": [
       "<Figure size 720x576 with 1 Axes>"
      ]
     },
     "metadata": {
      "needs_background": "light"
     },
     "output_type": "display_data"
    },
    {
     "data": {
      "image/png": "[encoded data removed]",
      "text/plain": [
       "<Figure size 720x576 with 1 Axes>"
      ]
     },
     "metadata": {
      "needs_background": "light"
     },
     "output_type": "display_data"
    },
    {
     "data": {
      "image/png": "[encoded data removed]",
      "text/plain": [
       "<Figure size 720x576 with 1 Axes>"
      ]
     },
     "metadata": {
      "needs_background": "light"
     },
     "output_type": "display_data"
    },
    {
     "data": {
      "image/png": "[encoded data removed]",
      "text/plain": [
       "<Figure size 720x576 with 1 Axes>"
      ]
     },
     "metadata": {
      "needs_background": "light"
     },
     "output_type": "display_data"
    }
   ],
   "source": [
    "categorical_without_price = [feature for feature in df.columns if df[feature].dtype!='float' and 'Place name' not in feature and 'Place type' not in feature and 'Price' not in feature]\n",
    "\n",
    "for i, feature in enumerate(categorical_without_price):\n",
    "    dataset = df[df['Price'].notnull()].copy()\n",
    "    dataset['Place type'] = np.where(dataset['Place type'].isin(types), dataset['Place type'], 'Other')\n",
    "    dataset[feature] = np.where(dataset[feature].isna(), 'Unknown', dataset[feature])\n",
    "    dataset[feature+'_pct'] = dataset.groupby(['Price', feature])[feature]\\\n",
    "                                   .transform(lambda x: len(x)) / len(dataset)\n",
    "    plt.figure(figsize=(10, 8))\n",
    "    sns.barplot(x=feature, y=feature+'_pct', hue='Price', data=dataset).set(xlabel=feature, ylabel='Percent')\n",
    "    plt.show()"
   ]
  },
  {
   "cell_type": "markdown",
   "id": "ebc4bf95-be72-4555-8ae8-6a104270288f",
   "metadata": {},
   "source": [
    "Region: shops whose price category is 'high' are located only in Poltava, Khrivoy Rog and Dnipro. Shops whose price category is 'low' are located only in Mariupol and Kiev. All other shops have a 'medium' price category.\n",
    "\n",
    "Delivery option: there is no shop whose price category is 'low' among those offering the delivery option. There is no shop whose price category is 'high' among those not offering the delivery option.\n",
    "\n",
    "Dine in option: all of the shops whose price category is 'high' or 'low' offer the dine in option.\n",
    "\n",
    "Takeout option: all of the shops whose price category is 'high' or 'low' offer the takeout in option."
   ]
  },
  {
   "cell_type": "markdown",
   "id": "52ac6f1c-9752-488d-bb92-7480c0379675",
   "metadata": {
    "tags": []
   },
   "source": [
    "#### Delivery option"
   ]
  },
  {
   "cell_type": "code",
   "execution_count": 70,
   "id": "c3d0f72f-a626-499a-a55d-27a57a2f5b5c",
   "metadata": {},
   "outputs": [
    {
     "data": {
      "image/png": "[encoded data removed]",
      "text/plain": [
       "<Figure size 720x576 with 1 Axes>"
      ]
     },
     "metadata": {
      "needs_background": "light"
     },
     "output_type": "display_data"
    },
    {
     "data": {
      "image/png": "[encoded data removed]",
      "text/plain": [
       "<Figure size 720x576 with 1 Axes>"
      ]
     },
     "metadata": {
      "needs_background": "light"
     },
     "output_type": "display_data"
    },
    {
     "data": {
      "image/png": "[encoded data removed]",
      "text/plain": [
       "<Figure size 720x576 with 1 Axes>"
      ]
     },
     "metadata": {
      "needs_background": "light"
     },
     "output_type": "display_data"
    }
   ],
   "source": [
    "categorical_without_delivery = [feature for feature in df.columns if df[feature].dtype!='float' and 'Place name' not in feature and 'Place type' not in feature and 'Price' not in feature and 'Delivery option' not in feature]\n",
    "\n",
    "for i, feature in enumerate(categorical_without_delivery):\n",
    "    dataset = df.copy()\n",
    "    dataset['Delivery option'] = np.where(dataset['Delivery option'].isna(), 'Unknown', dataset['Delivery option'])\n",
    "    dataset['Place type'] = np.where(dataset['Place type'].isin(types), dataset['Place type'], 'Other')\n",
    "    dataset[feature] = np.where(dataset[feature].isna(), 'Unknown', dataset[feature])\n",
    "    dataset[feature+'_pct'] = dataset.groupby(['Delivery option', feature])[feature]\\\n",
    "                                   .transform(lambda x: len(x)) / len(dataset)\n",
    "    plt.figure(figsize=(10, 8))\n",
    "    sns.barplot(x=feature, y=feature+'_pct', hue='Delivery option', data=dataset).set(xlabel=feature, ylabel='Percent')\n",
    "    plt.show()"
   ]
  },
  {
   "cell_type": "markdown",
   "id": "1b4d0cf8-d654-4f4f-a9aa-91854f7860e1",
   "metadata": {},
   "source": [
    "Region: Odessa and Dnipro are the regions with the higher proportion of shops offering a delivery option (over their relative totals). However, for the majority of the shops in each region the delivery option is not offered or unknown.\n",
    "\n",
    "Dine in option: the majority of shops offering a dine-in option do not offer a delivery option, while for the majority of shops not offering the dine-in option, the delivery option is unknown.\n",
    "\n",
    "Takeout option: the majority of shops offering a takeout option do not offer a delivery option, while for the majority of shops not offering the takeout option, the delivery option is unknown."
   ]
  },
  {
   "cell_type": "markdown",
   "id": "1418a381-fc98-4c6b-98bc-d6e24cad19ff",
   "metadata": {
    "tags": []
   },
   "source": [
    "#### Dine in option"
   ]
  },
  {
   "cell_type": "code",
   "execution_count": 71,
   "id": "80ddd318-bc1d-436a-9d04-3da2d494b450",
   "metadata": {},
   "outputs": [
    {
     "data": {
      "image/png": "[encoded data removed]",
      "text/plain": [
       "<Figure size 720x576 with 1 Axes>"
      ]
     },
     "metadata": {
      "needs_background": "light"
     },
     "output_type": "display_data"
    },
    {
     "data": {
      "image/png": "[encoded data removed]",
      "text/plain": [
       "<Figure size 720x576 with 1 Axes>"
      ]
     },
     "metadata": {
      "needs_background": "light"
     },
     "output_type": "display_data"
    }
   ],
   "source": [
    "categorical_without_dinein = [feature for feature in df.columns if df[feature].dtype!='float' and 'Place name' not in feature and 'Place type' not in feature and 'Price' not in feature and 'Delivery option' not in feature and 'Dine in option' not in feature]\n",
    "\n",
    "for i, feature in enumerate(categorical_without_dinein):\n",
    "    dataset = df[df['Dine in option'].notnull()].copy()\n",
    "    dataset['Place type'] = np.where(dataset['Place type'].isin(types), dataset['Place type'], 'Other')\n",
    "    dataset[feature] = np.where(dataset[feature].isna(), 'Unknown', dataset[feature])\n",
    "    dataset[feature+'_pct'] = dataset.groupby(['Dine in option', feature])[feature]\\\n",
    "                                   .transform(lambda x: len(x)) / len(dataset)\n",
    "    plt.figure(figsize=(10, 8))\n",
    "    sns.barplot(x=feature, y=feature+'_pct', hue='Dine in option', data=dataset).set(xlabel=feature, ylabel='Percent')\n",
    "    plt.show()"
   ]
  },
  {
   "cell_type": "markdown",
   "id": "0f4567ac-d91b-4d22-bec2-2d69edbd7975",
   "metadata": {},
   "source": [
    "Region: almost every shop in Lviv, Dnipro and Khrivoy Rog offer a dine-in option.\n",
    "\n",
    "Takeout option: shops that don't offer a take-out option are also more likely not to offer a dine-in option."
   ]
  },
  {
   "cell_type": "markdown",
   "id": "00a095cd-8a1e-4aa3-8690-e21c970c8d16",
   "metadata": {
    "tags": []
   },
   "source": [
    "#### Takeout option"
   ]
  },
  {
   "cell_type": "code",
   "execution_count": 72,
   "id": "29de278d-5066-4212-9ca4-5a9df4baed6e",
   "metadata": {},
   "outputs": [
    {
     "data": {
      "image/png": "[encoded data removed]",
      "text/plain": [
       "<Figure size 720x576 with 1 Axes>"
      ]
     },
     "metadata": {
      "needs_background": "light"
     },
     "output_type": "display_data"
    }
   ],
   "source": [
    "categorical_without_dinein = [feature for feature in df.columns if df[feature].dtype!='float' and 'Place name' not in feature and 'Place type' not in feature and 'Price' not in feature and 'Delivery option' not in feature and 'Dine in option' not in feature and 'Takeout option' not in feature]\n",
    "\n",
    "for i, feature in enumerate(categorical_without_dinein):\n",
    "    dataset = df[df['Takeout option'].notnull()].copy()\n",
    "    dataset['Place type'] = np.where(dataset['Place type'].isin(types), dataset['Place type'], 'Other')\n",
    "    dataset[feature] = np.where(dataset[feature].isna(), 'Unknown', dataset[feature])\n",
    "    dataset[feature+'_pct'] = dataset.groupby(['Takeout option', feature])[feature]\\\n",
    "                                   .transform(lambda x: len(x)) / len(dataset)\n",
    "    plt.figure(figsize=(10, 8))\n",
    "    sns.barplot(x=feature, y=feature+'_pct', hue='Takeout option', data=dataset).set(xlabel=feature, ylabel='Percent')\n",
    "    plt.show()"
   ]
  },
  {
   "cell_type": "markdown",
   "id": "df0b1de0-82eb-45c3-adad-13c7292d7d1a",
   "metadata": {},
   "source": [
    "Odessa, Zaporozhye and Kiev are the regions in which shops are less likely to offer a takeout option. Every shop in Lviv offers a takeout option."
   ]
  },
  {
   "cell_type": "markdown",
   "id": "3c985b8d-3783-4fbe-b639-2bc2686e5bd2",
   "metadata": {
    "tags": []
   },
   "source": [
    "## Feature engineering"
   ]
  },
  {
   "cell_type": "markdown",
   "id": "cc250c10-0b7a-4164-9b0e-459dea4d6a3e",
   "metadata": {
    "tags": []
   },
   "source": [
    "### Handling missing values"
   ]
  },
  {
   "cell_type": "markdown",
   "id": "1d61488f-d95a-41f5-a762-3d464d2f3839",
   "metadata": {
    "jp-MarkdownHeadingCollapsed": true,
    "tags": []
   },
   "source": [
    "#### Rating and Reviews"
   ]
  },
  {
   "cell_type": "code",
   "execution_count": 73,
   "id": "14a7fd61-0f45-4570-9125-1cf350758505",
   "metadata": {},
   "outputs": [
    {
     "data": {
      "text/html": [
       "<div>\n",
       "<style scoped>\n",
       "    .dataframe tbody tr th:only-of-type {\n",
       "        vertical-align: middle;\n",
       "    }\n",
       "\n",
       "    .dataframe tbody tr th {\n",
       "        vertical-align: top;\n",
       "    }\n",
       "\n",
       "    .dataframe thead th {\n",
       "        text-align: right;\n",
       "    }\n",
       "</style>\n",
       "<table border=\"1\" class=\"dataframe\">\n",
       "  <thead>\n",
       "    <tr style=\"text-align: right;\">\n",
       "      <th></th>\n",
       "      <th>Region</th>\n",
       "      <th>Place name</th>\n",
       "      <th>Place type</th>\n",
       "      <th>Rating</th>\n",
       "      <th>Reviews</th>\n",
       "      <th>Price</th>\n",
       "      <th>Delivery option</th>\n",
       "      <th>Dine in option</th>\n",
       "      <th>Takeout option</th>\n",
       "    </tr>\n",
       "  </thead>\n",
       "  <tbody>\n",
       "    <tr>\n",
       "      <th>49</th>\n",
       "      <td>Kherson</td>\n",
       "      <td>Кофе В Херсоне</td>\n",
       "      <td>Cafe</td>\n",
       "      <td>NaN</td>\n",
       "      <td>NaN</td>\n",
       "      <td>NaN</td>\n",
       "      <td>False</td>\n",
       "      <td>False</td>\n",
       "      <td>False</td>\n",
       "    </tr>\n",
       "    <tr>\n",
       "      <th>186</th>\n",
       "      <td>Dnipro</td>\n",
       "      <td>Coffee&amp;Cake, Game zone PS4</td>\n",
       "      <td>Coffee shop</td>\n",
       "      <td>NaN</td>\n",
       "      <td>NaN</td>\n",
       "      <td>NaN</td>\n",
       "      <td>NaN</td>\n",
       "      <td>False</td>\n",
       "      <td>False</td>\n",
       "    </tr>\n",
       "  </tbody>\n",
       "</table>\n",
       "</div>"
      ],
      "text/plain": [
       "      Region                  Place name   Place type  Rating  Reviews Price  \\\n",
       "49   Kherson              Кофе В Херсоне         Cafe     NaN      NaN   NaN   \n",
       "186   Dnipro  Coffee&Cake, Game zone PS4  Coffee shop     NaN      NaN   NaN   \n",
       "\n",
       "    Delivery option  Dine in option  Takeout option  \n",
       "49            False           False           False  \n",
       "186             NaN           False           False  "
      ]
     },
     "execution_count": 73,
     "metadata": {},
     "output_type": "execute_result"
    }
   ],
   "source": [
    "df[df['Rating'].isna()]"
   ]
  },
  {
   "cell_type": "markdown",
   "id": "003a537a-8f1d-4e74-a9f7-172aab6566fa",
   "metadata": {},
   "source": [
    "We can proceed imputing the mean 'Rating' and 'Reviews' values for Cafes in Kherson to observation 49 and apply the same logic for observation 186."
   ]
  },
  {
   "cell_type": "code",
   "execution_count": 74,
   "id": "12063ed3-f407-489e-b3f9-a593076585b0",
   "metadata": {},
   "outputs": [
    {
     "data": {
      "text/plain": [
       "Region              0\n",
       "Place name          0\n",
       "Place type          0\n",
       "Rating              0\n",
       "Reviews             0\n",
       "Price              78\n",
       "Delivery option    71\n",
       "Dine in option      0\n",
       "Takeout option      0\n",
       "dtype: int64"
      ]
     },
     "execution_count": 74,
     "metadata": {},
     "output_type": "execute_result"
    }
   ],
   "source": [
    "rating_kherson_cafe = round(df[(df['Region'] == 'Kherson') & (df['Place type'] == 'Cafe')]['Rating'].mean(), 1)\n",
    "df['Rating'] = np.where((df['Rating'].isnull()) & (df['Region']=='Kherson'), rating_kherson_cafe, df['Rating'])\n",
    "\n",
    "reviews_kherson_cafe = round(df[(df['Region'] == 'Kherson') & (df['Place type'] == 'Cafe')]['Reviews'].mean(), 0)\n",
    "df['Reviews'] = np.where((df['Reviews'].isnull()) & (df['Region']=='Kherson'), reviews_kherson_cafe, df['Reviews'])\n",
    "\n",
    "rating_dnipro_coffeeshop = round(df[(df['Region'] == 'Dnipro') & (df['Place type'] == 'Coffee shop')]['Rating'].mean(), 1)\n",
    "df['Rating'] = np.where((df['Rating'].isnull()) & (df['Region']=='Dnipro'), rating_dnipro_coffeeshop, df['Rating'])\n",
    "\n",
    "reviews_dnipro_coffeeshop = round(df[(df['Region'] == 'Dnipro') & (df['Place type'] == 'Coffee shop')]['Reviews'].mean(), 0)\n",
    "df['Reviews'] = np.where((df['Reviews'].isnull()) & (df['Region']=='Dnipro'), reviews_dnipro_coffeeshop, df['Reviews'])\n",
    "\n",
    "df.isnull().sum()"
   ]
  },
  {
   "cell_type": "markdown",
   "id": "dbf240fe-e8c4-4ff1-a5cc-a175424de3da",
   "metadata": {
    "jp-MarkdownHeadingCollapsed": true,
    "tags": []
   },
   "source": [
    "#### Price and Delivery option"
   ]
  },
  {
   "cell_type": "markdown",
   "id": "75d75473-ceb2-4d74-bd9c-6023fcb20710",
   "metadata": {},
   "source": [
    "Here, we are dealing with categorical variables. Since the percentage of missing values for these two variables is between 30 to 40%, it is not the case to proceed imputing the mode. Still, we want to avoid losing information so we can't just drop the observations. We will replace missing values with the label 'Unknown', like we did in the EDA part."
   ]
  },
  {
   "cell_type": "code",
   "execution_count": 75,
   "id": "b271e78c-1b98-45fe-8ca9-3bc480a9136e",
   "metadata": {},
   "outputs": [
    {
     "data": {
      "text/plain": [
       "Region             0\n",
       "Place name         0\n",
       "Place type         0\n",
       "Rating             0\n",
       "Reviews            0\n",
       "Price              0\n",
       "Delivery option    0\n",
       "Dine in option     0\n",
       "Takeout option     0\n",
       "dtype: int64"
      ]
     },
     "execution_count": 75,
     "metadata": {},
     "output_type": "execute_result"
    }
   ],
   "source": [
    "df['Price'] = np.where(df['Price'].isna(), 'Unknown', df['Price'])\n",
    "df['Delivery option'] = np.where(df['Delivery option'].isna(), 'Unknown', df['Delivery option'])\n",
    "\n",
    "df.isnull().sum()"
   ]
  },
  {
   "cell_type": "markdown",
   "id": "a5d1386b-d529-4983-8bd7-747e44583e8d",
   "metadata": {
    "tags": []
   },
   "source": [
    "### Outliers treatment"
   ]
  },
  {
   "cell_type": "markdown",
   "id": "cee0a655-b8dc-4edd-ac7a-f5488b59e102",
   "metadata": {},
   "source": [
    "During the EDA, we have noticed that there is one observation having an extremely high number of reviews. This can end up distorting the variable scaling process (and the clustering process as well), so we need to take care of it properly."
   ]
  },
  {
   "cell_type": "code",
   "execution_count": 76,
   "id": "c6dd6657-4948-42c8-9e75-582cc76bf6fa",
   "metadata": {},
   "outputs": [
    {
     "data": {
      "text/html": [
       "<div>\n",
       "<style scoped>\n",
       "    .dataframe tbody tr th:only-of-type {\n",
       "        vertical-align: middle;\n",
       "    }\n",
       "\n",
       "    .dataframe tbody tr th {\n",
       "        vertical-align: top;\n",
       "    }\n",
       "\n",
       "    .dataframe thead th {\n",
       "        text-align: right;\n",
       "    }\n",
       "</style>\n",
       "<table border=\"1\" class=\"dataframe\">\n",
       "  <thead>\n",
       "    <tr style=\"text-align: right;\">\n",
       "      <th></th>\n",
       "      <th>Region</th>\n",
       "      <th>Place name</th>\n",
       "      <th>Place type</th>\n",
       "      <th>Rating</th>\n",
       "      <th>Reviews</th>\n",
       "      <th>Price</th>\n",
       "      <th>Delivery option</th>\n",
       "      <th>Dine in option</th>\n",
       "      <th>Takeout option</th>\n",
       "    </tr>\n",
       "  </thead>\n",
       "  <tbody>\n",
       "    <tr>\n",
       "      <th>100</th>\n",
       "      <td>Lviv</td>\n",
       "      <td>Lviv Coffee Manufacture</td>\n",
       "      <td>Coffee shop</td>\n",
       "      <td>4.7</td>\n",
       "      <td>17937.0</td>\n",
       "      <td>Medium</td>\n",
       "      <td>True</td>\n",
       "      <td>True</td>\n",
       "      <td>True</td>\n",
       "    </tr>\n",
       "  </tbody>\n",
       "</table>\n",
       "</div>"
      ],
      "text/plain": [
       "    Region               Place name   Place type  Rating  Reviews   Price  \\\n",
       "100   Lviv  Lviv Coffee Manufacture  Coffee shop     4.7  17937.0  Medium   \n",
       "\n",
       "    Delivery option  Dine in option  Takeout option  \n",
       "100            True            True            True  "
      ]
     },
     "execution_count": 76,
     "metadata": {},
     "output_type": "execute_result"
    }
   ],
   "source": [
    "df[df['Reviews']>17500]"
   ]
  },
  {
   "cell_type": "markdown",
   "id": "e75e0442-d70c-495b-8330-925fd6848ac5",
   "metadata": {},
   "source": [
    "Once again, to avoid losing information, we will impute this outlier with the 99.5 percentile (which is still way lower)."
   ]
  },
  {
   "cell_type": "code",
   "execution_count": 77,
   "id": "9fad3a87-322d-4d4d-8810-fd4ad226cc69",
   "metadata": {},
   "outputs": [],
   "source": [
    "df.iloc[100, 4] = round(np.percentile(df['Reviews'], 99.5),0)"
   ]
  },
  {
   "cell_type": "code",
   "execution_count": 78,
   "id": "50c28660-ba40-48ae-9e2b-4bbfae829acd",
   "metadata": {},
   "outputs": [
    {
     "data": {
      "text/plain": [
       "Region                                Lviv\n",
       "Place name         Lviv Coffee Manufacture\n",
       "Place type                     Coffee shop\n",
       "Rating                                 4.7\n",
       "Reviews                             3006.0\n",
       "Price                               Medium\n",
       "Delivery option                       True\n",
       "Dine in option                        True\n",
       "Takeout option                        True\n",
       "Name: 100, dtype: object"
      ]
     },
     "execution_count": 78,
     "metadata": {},
     "output_type": "execute_result"
    }
   ],
   "source": [
    "df.iloc[100]"
   ]
  },
  {
   "cell_type": "markdown",
   "id": "437943f3-6990-41d2-a156-1824e16e3a2a",
   "metadata": {
    "tags": []
   },
   "source": [
    "### Encoding categorical variables"
   ]
  },
  {
   "cell_type": "markdown",
   "id": "e0e527a9-98e0-40a9-98c3-97fecb914e3a",
   "metadata": {},
   "source": [
    "Here, we are dealing with nominal categorical variables (therefore, we cannot perform neither label encoding, nor target-guided label encoding).\n",
    "\n",
    "The choice is narrowed to either one-hot encoding or mean-encoding. By the way, since we are dealing with a clustering problem (and we do not have any target variable), the only type of encoding we can perform is one-hot encoding. That is a good choice also because the number of variables present in the dataset is limited.\n",
    "\n",
    "The only two variables we won't use for clustering are \"Region\" (the marketing manager wants to identify Ukrainian key coffee shop segments regardless of the location region) and \"Place name\" (it doesn't provide any useful information in that sense)."
   ]
  },
  {
   "cell_type": "markdown",
   "id": "eefee421-a968-4c71-9730-f6c89d759f2c",
   "metadata": {},
   "source": [
    "#### Splitting the dataset between numerical and categorical variables"
   ]
  },
  {
   "cell_type": "code",
   "execution_count": 29,
   "id": "c8049b8f-d200-41d6-92af-55ac8babfaeb",
   "metadata": {},
   "outputs": [],
   "source": [
    "numerical = [feature for feature in df.columns if df[feature].dtype=='float']\n",
    "categorical = ['Place type', 'Price', 'Delivery option', 'Dine in option', 'Takeout option']\n",
    "\n",
    "num_df = df[numerical]\n",
    "\n",
    "cat_df = df[categorical]\n",
    "cat_df['Dine in option'] = cat_df['Dine in option'].astype('O')\n",
    "cat_df['Takeout option'] = cat_df['Takeout option'].astype('O')\n",
    "cat_df = pd.get_dummies(cat_df, drop_first=True)"
   ]
  },
  {
   "cell_type": "markdown",
   "id": "f7682f87-308f-463d-aad9-37e2f5ca5aae",
   "metadata": {},
   "source": [
    "We had to convert boolean variables ('Dine in Option' and 'Takeout option') before proceeding with encoding."
   ]
  },
  {
   "cell_type": "markdown",
   "id": "4bdbc6b2-3721-4db1-9aa5-80f4985ff974",
   "metadata": {},
   "source": [
    "#### Merging the datasets back together"
   ]
  },
  {
   "cell_type": "code",
   "execution_count": 30,
   "id": "638f8ab4-f37e-4460-a7c3-35bd3e27273a",
   "metadata": {},
   "outputs": [
    {
     "data": {
      "text/html": [
       "<div>\n",
       "<style scoped>\n",
       "    .dataframe tbody tr th:only-of-type {\n",
       "        vertical-align: middle;\n",
       "    }\n",
       "\n",
       "    .dataframe tbody tr th {\n",
       "        vertical-align: top;\n",
       "    }\n",
       "\n",
       "    .dataframe thead th {\n",
       "        text-align: right;\n",
       "    }\n",
       "</style>\n",
       "<table border=\"1\" class=\"dataframe\">\n",
       "  <thead>\n",
       "    <tr style=\"text-align: right;\">\n",
       "      <th></th>\n",
       "      <th>Rating</th>\n",
       "      <th>Reviews</th>\n",
       "      <th>Place type_Cafe</th>\n",
       "      <th>Place type_Chocolate shop</th>\n",
       "      <th>Place type_Coffee roasters</th>\n",
       "      <th>Place type_Coffee shop</th>\n",
       "      <th>Place type_Coffee stand</th>\n",
       "      <th>Place type_Coffee store</th>\n",
       "      <th>Place type_E-commerce service</th>\n",
       "      <th>Place type_Espresso bar</th>\n",
       "      <th>...</th>\n",
       "      <th>Place type_Pastry shop</th>\n",
       "      <th>Place type_Restaurant</th>\n",
       "      <th>Place type_Store</th>\n",
       "      <th>Price_Low</th>\n",
       "      <th>Price_Medium</th>\n",
       "      <th>Price_Unknown</th>\n",
       "      <th>Delivery option_True</th>\n",
       "      <th>Delivery option_Unknown</th>\n",
       "      <th>Dine in option_True</th>\n",
       "      <th>Takeout option_True</th>\n",
       "    </tr>\n",
       "  </thead>\n",
       "  <tbody>\n",
       "    <tr>\n",
       "      <th>0</th>\n",
       "      <td>4.6</td>\n",
       "      <td>206.0</td>\n",
       "      <td>0</td>\n",
       "      <td>0</td>\n",
       "      <td>0</td>\n",
       "      <td>0</td>\n",
       "      <td>0</td>\n",
       "      <td>1</td>\n",
       "      <td>0</td>\n",
       "      <td>0</td>\n",
       "      <td>...</td>\n",
       "      <td>0</td>\n",
       "      <td>0</td>\n",
       "      <td>0</td>\n",
       "      <td>0</td>\n",
       "      <td>0</td>\n",
       "      <td>1</td>\n",
       "      <td>0</td>\n",
       "      <td>1</td>\n",
       "      <td>0</td>\n",
       "      <td>0</td>\n",
       "    </tr>\n",
       "    <tr>\n",
       "      <th>1</th>\n",
       "      <td>5.0</td>\n",
       "      <td>24.0</td>\n",
       "      <td>1</td>\n",
       "      <td>0</td>\n",
       "      <td>0</td>\n",
       "      <td>0</td>\n",
       "      <td>0</td>\n",
       "      <td>0</td>\n",
       "      <td>0</td>\n",
       "      <td>0</td>\n",
       "      <td>...</td>\n",
       "      <td>0</td>\n",
       "      <td>0</td>\n",
       "      <td>0</td>\n",
       "      <td>0</td>\n",
       "      <td>1</td>\n",
       "      <td>0</td>\n",
       "      <td>0</td>\n",
       "      <td>0</td>\n",
       "      <td>0</td>\n",
       "      <td>1</td>\n",
       "    </tr>\n",
       "    <tr>\n",
       "      <th>2</th>\n",
       "      <td>5.0</td>\n",
       "      <td>11.0</td>\n",
       "      <td>0</td>\n",
       "      <td>0</td>\n",
       "      <td>0</td>\n",
       "      <td>1</td>\n",
       "      <td>0</td>\n",
       "      <td>0</td>\n",
       "      <td>0</td>\n",
       "      <td>0</td>\n",
       "      <td>...</td>\n",
       "      <td>0</td>\n",
       "      <td>0</td>\n",
       "      <td>0</td>\n",
       "      <td>0</td>\n",
       "      <td>0</td>\n",
       "      <td>1</td>\n",
       "      <td>0</td>\n",
       "      <td>1</td>\n",
       "      <td>0</td>\n",
       "      <td>1</td>\n",
       "    </tr>\n",
       "    <tr>\n",
       "      <th>3</th>\n",
       "      <td>4.4</td>\n",
       "      <td>331.0</td>\n",
       "      <td>0</td>\n",
       "      <td>0</td>\n",
       "      <td>0</td>\n",
       "      <td>1</td>\n",
       "      <td>0</td>\n",
       "      <td>0</td>\n",
       "      <td>0</td>\n",
       "      <td>0</td>\n",
       "      <td>...</td>\n",
       "      <td>0</td>\n",
       "      <td>0</td>\n",
       "      <td>0</td>\n",
       "      <td>0</td>\n",
       "      <td>1</td>\n",
       "      <td>0</td>\n",
       "      <td>0</td>\n",
       "      <td>0</td>\n",
       "      <td>1</td>\n",
       "      <td>1</td>\n",
       "    </tr>\n",
       "    <tr>\n",
       "      <th>4</th>\n",
       "      <td>5.0</td>\n",
       "      <td>12.0</td>\n",
       "      <td>0</td>\n",
       "      <td>0</td>\n",
       "      <td>0</td>\n",
       "      <td>1</td>\n",
       "      <td>0</td>\n",
       "      <td>0</td>\n",
       "      <td>0</td>\n",
       "      <td>0</td>\n",
       "      <td>...</td>\n",
       "      <td>0</td>\n",
       "      <td>0</td>\n",
       "      <td>0</td>\n",
       "      <td>0</td>\n",
       "      <td>0</td>\n",
       "      <td>1</td>\n",
       "      <td>0</td>\n",
       "      <td>1</td>\n",
       "      <td>1</td>\n",
       "      <td>1</td>\n",
       "    </tr>\n",
       "    <tr>\n",
       "      <th>...</th>\n",
       "      <td>...</td>\n",
       "      <td>...</td>\n",
       "      <td>...</td>\n",
       "      <td>...</td>\n",
       "      <td>...</td>\n",
       "      <td>...</td>\n",
       "      <td>...</td>\n",
       "      <td>...</td>\n",
       "      <td>...</td>\n",
       "      <td>...</td>\n",
       "      <td>...</td>\n",
       "      <td>...</td>\n",
       "      <td>...</td>\n",
       "      <td>...</td>\n",
       "      <td>...</td>\n",
       "      <td>...</td>\n",
       "      <td>...</td>\n",
       "      <td>...</td>\n",
       "      <td>...</td>\n",
       "      <td>...</td>\n",
       "      <td>...</td>\n",
       "    </tr>\n",
       "    <tr>\n",
       "      <th>195</th>\n",
       "      <td>4.6</td>\n",
       "      <td>963.0</td>\n",
       "      <td>0</td>\n",
       "      <td>0</td>\n",
       "      <td>0</td>\n",
       "      <td>0</td>\n",
       "      <td>0</td>\n",
       "      <td>0</td>\n",
       "      <td>0</td>\n",
       "      <td>0</td>\n",
       "      <td>...</td>\n",
       "      <td>0</td>\n",
       "      <td>1</td>\n",
       "      <td>0</td>\n",
       "      <td>0</td>\n",
       "      <td>0</td>\n",
       "      <td>0</td>\n",
       "      <td>0</td>\n",
       "      <td>1</td>\n",
       "      <td>1</td>\n",
       "      <td>1</td>\n",
       "    </tr>\n",
       "    <tr>\n",
       "      <th>196</th>\n",
       "      <td>4.3</td>\n",
       "      <td>646.0</td>\n",
       "      <td>1</td>\n",
       "      <td>0</td>\n",
       "      <td>0</td>\n",
       "      <td>0</td>\n",
       "      <td>0</td>\n",
       "      <td>0</td>\n",
       "      <td>0</td>\n",
       "      <td>0</td>\n",
       "      <td>...</td>\n",
       "      <td>0</td>\n",
       "      <td>0</td>\n",
       "      <td>0</td>\n",
       "      <td>0</td>\n",
       "      <td>1</td>\n",
       "      <td>0</td>\n",
       "      <td>0</td>\n",
       "      <td>0</td>\n",
       "      <td>1</td>\n",
       "      <td>1</td>\n",
       "    </tr>\n",
       "    <tr>\n",
       "      <th>197</th>\n",
       "      <td>4.6</td>\n",
       "      <td>16.0</td>\n",
       "      <td>1</td>\n",
       "      <td>0</td>\n",
       "      <td>0</td>\n",
       "      <td>0</td>\n",
       "      <td>0</td>\n",
       "      <td>0</td>\n",
       "      <td>0</td>\n",
       "      <td>0</td>\n",
       "      <td>...</td>\n",
       "      <td>0</td>\n",
       "      <td>0</td>\n",
       "      <td>0</td>\n",
       "      <td>0</td>\n",
       "      <td>1</td>\n",
       "      <td>0</td>\n",
       "      <td>0</td>\n",
       "      <td>0</td>\n",
       "      <td>1</td>\n",
       "      <td>1</td>\n",
       "    </tr>\n",
       "    <tr>\n",
       "      <th>198</th>\n",
       "      <td>4.7</td>\n",
       "      <td>599.0</td>\n",
       "      <td>0</td>\n",
       "      <td>0</td>\n",
       "      <td>0</td>\n",
       "      <td>1</td>\n",
       "      <td>0</td>\n",
       "      <td>0</td>\n",
       "      <td>0</td>\n",
       "      <td>0</td>\n",
       "      <td>...</td>\n",
       "      <td>0</td>\n",
       "      <td>0</td>\n",
       "      <td>0</td>\n",
       "      <td>0</td>\n",
       "      <td>1</td>\n",
       "      <td>0</td>\n",
       "      <td>0</td>\n",
       "      <td>1</td>\n",
       "      <td>1</td>\n",
       "      <td>1</td>\n",
       "    </tr>\n",
       "    <tr>\n",
       "      <th>199</th>\n",
       "      <td>4.3</td>\n",
       "      <td>341.0</td>\n",
       "      <td>1</td>\n",
       "      <td>0</td>\n",
       "      <td>0</td>\n",
       "      <td>0</td>\n",
       "      <td>0</td>\n",
       "      <td>0</td>\n",
       "      <td>0</td>\n",
       "      <td>0</td>\n",
       "      <td>...</td>\n",
       "      <td>0</td>\n",
       "      <td>0</td>\n",
       "      <td>0</td>\n",
       "      <td>0</td>\n",
       "      <td>0</td>\n",
       "      <td>1</td>\n",
       "      <td>0</td>\n",
       "      <td>1</td>\n",
       "      <td>1</td>\n",
       "      <td>0</td>\n",
       "    </tr>\n",
       "  </tbody>\n",
       "</table>\n",
       "<p>200 rows × 22 columns</p>\n",
       "</div>"
      ],
      "text/plain": [
       "     Rating  Reviews  Place type_Cafe  Place type_Chocolate shop  \\\n",
       "0       4.6    206.0                0                          0   \n",
       "1       5.0     24.0                1                          0   \n",
       "2       5.0     11.0                0                          0   \n",
       "3       4.4    331.0                0                          0   \n",
       "4       5.0     12.0                0                          0   \n",
       "..      ...      ...              ...                        ...   \n",
       "195     4.6    963.0                0                          0   \n",
       "196     4.3    646.0                1                          0   \n",
       "197     4.6     16.0                1                          0   \n",
       "198     4.7    599.0                0                          0   \n",
       "199     4.3    341.0                1                          0   \n",
       "\n",
       "     Place type_Coffee roasters  Place type_Coffee shop  \\\n",
       "0                             0                       0   \n",
       "1                             0                       0   \n",
       "2                             0                       1   \n",
       "3                             0                       1   \n",
       "4                             0                       1   \n",
       "..                          ...                     ...   \n",
       "195                           0                       0   \n",
       "196                           0                       0   \n",
       "197                           0                       0   \n",
       "198                           0                       1   \n",
       "199                           0                       0   \n",
       "\n",
       "     Place type_Coffee stand  Place type_Coffee store  \\\n",
       "0                          0                        1   \n",
       "1                          0                        0   \n",
       "2                          0                        0   \n",
       "3                          0                        0   \n",
       "4                          0                        0   \n",
       "..                       ...                      ...   \n",
       "195                        0                        0   \n",
       "196                        0                        0   \n",
       "197                        0                        0   \n",
       "198                        0                        0   \n",
       "199                        0                        0   \n",
       "\n",
       "     Place type_E-commerce service  Place type_Espresso bar  ...  \\\n",
       "0                                0                        0  ...   \n",
       "1                                0                        0  ...   \n",
       "2                                0                        0  ...   \n",
       "3                                0                        0  ...   \n",
       "4                                0                        0  ...   \n",
       "..                             ...                      ...  ...   \n",
       "195                              0                        0  ...   \n",
       "196                              0                        0  ...   \n",
       "197                              0                        0  ...   \n",
       "198                              0                        0  ...   \n",
       "199                              0                        0  ...   \n",
       "\n",
       "     Place type_Pastry shop  Place type_Restaurant  Place type_Store  \\\n",
       "0                         0                      0                 0   \n",
       "1                         0                      0                 0   \n",
       "2                         0                      0                 0   \n",
       "3                         0                      0                 0   \n",
       "4                         0                      0                 0   \n",
       "..                      ...                    ...               ...   \n",
       "195                       0                      1                 0   \n",
       "196                       0                      0                 0   \n",
       "197                       0                      0                 0   \n",
       "198                       0                      0                 0   \n",
       "199                       0                      0                 0   \n",
       "\n",
       "     Price_Low  Price_Medium  Price_Unknown  Delivery option_True  \\\n",
       "0            0             0              1                     0   \n",
       "1            0             1              0                     0   \n",
       "2            0             0              1                     0   \n",
       "3            0             1              0                     0   \n",
       "4            0             0              1                     0   \n",
       "..         ...           ...            ...                   ...   \n",
       "195          0             0              0                     0   \n",
       "196          0             1              0                     0   \n",
       "197          0             1              0                     0   \n",
       "198          0             1              0                     0   \n",
       "199          0             0              1                     0   \n",
       "\n",
       "     Delivery option_Unknown  Dine in option_True  Takeout option_True  \n",
       "0                          1                    0                    0  \n",
       "1                          0                    0                    1  \n",
       "2                          1                    0                    1  \n",
       "3                          0                    1                    1  \n",
       "4                          1                    1                    1  \n",
       "..                       ...                  ...                  ...  \n",
       "195                        1                    1                    1  \n",
       "196                        0                    1                    1  \n",
       "197                        0                    1                    1  \n",
       "198                        1                    1                    1  \n",
       "199                        1                    1                    0  \n",
       "\n",
       "[200 rows x 22 columns]"
      ]
     },
     "execution_count": 30,
     "metadata": {},
     "output_type": "execute_result"
    }
   ],
   "source": [
    "encoded = pd.concat([num_df, cat_df], axis=1)\n",
    "\n",
    "encoded"
   ]
  },
  {
   "cell_type": "markdown",
   "id": "f0794fda-bdc6-484a-b3bb-c9b0df47ba65",
   "metadata": {
    "tags": []
   },
   "source": [
    "### Scaling"
   ]
  },
  {
   "cell_type": "markdown",
   "id": "b40e447e-8f1c-4e73-8036-e6310f9835e9",
   "metadata": {},
   "source": [
    "Since our variables are expressed in different units of measure, we must scale them so as to avoid that they can be assigned different weights during clustering. We will use MinMaxScaler."
   ]
  },
  {
   "cell_type": "code",
   "execution_count": 31,
   "id": "bd7fc2b3-655e-47b8-ae0d-d8251b910ac9",
   "metadata": {},
   "outputs": [],
   "source": [
    "scaler = MinMaxScaler()\n",
    "\n",
    "scaler.fit(encoded)\n",
    "\n",
    "encoded_columns = encoded.columns\n",
    "\n",
    "scaled = pd.DataFrame(scaler.transform(encoded), columns=encoded_columns)"
   ]
  },
  {
   "cell_type": "code",
   "execution_count": 32,
   "id": "9ddfad12-b961-420f-9cd7-3b3af8ce8ed2",
   "metadata": {},
   "outputs": [
    {
     "data": {
      "text/html": [
       "<div>\n",
       "<style scoped>\n",
       "    .dataframe tbody tr th:only-of-type {\n",
       "        vertical-align: middle;\n",
       "    }\n",
       "\n",
       "    .dataframe tbody tr th {\n",
       "        vertical-align: top;\n",
       "    }\n",
       "\n",
       "    .dataframe thead th {\n",
       "        text-align: right;\n",
       "    }\n",
       "</style>\n",
       "<table border=\"1\" class=\"dataframe\">\n",
       "  <thead>\n",
       "    <tr style=\"text-align: right;\">\n",
       "      <th></th>\n",
       "      <th>Rating</th>\n",
       "      <th>Reviews</th>\n",
       "      <th>Place type_Cafe</th>\n",
       "      <th>Place type_Chocolate shop</th>\n",
       "      <th>Place type_Coffee roasters</th>\n",
       "      <th>Place type_Coffee shop</th>\n",
       "      <th>Place type_Coffee stand</th>\n",
       "      <th>Place type_Coffee store</th>\n",
       "      <th>Place type_E-commerce service</th>\n",
       "      <th>Place type_Espresso bar</th>\n",
       "      <th>...</th>\n",
       "      <th>Place type_Pastry shop</th>\n",
       "      <th>Place type_Restaurant</th>\n",
       "      <th>Place type_Store</th>\n",
       "      <th>Price_Low</th>\n",
       "      <th>Price_Medium</th>\n",
       "      <th>Price_Unknown</th>\n",
       "      <th>Delivery option_True</th>\n",
       "      <th>Delivery option_Unknown</th>\n",
       "      <th>Dine in option_True</th>\n",
       "      <th>Takeout option_True</th>\n",
       "    </tr>\n",
       "  </thead>\n",
       "  <tbody>\n",
       "    <tr>\n",
       "      <th>0</th>\n",
       "      <td>0.636364</td>\n",
       "      <td>0.067598</td>\n",
       "      <td>0.0</td>\n",
       "      <td>0.0</td>\n",
       "      <td>0.0</td>\n",
       "      <td>0.0</td>\n",
       "      <td>0.0</td>\n",
       "      <td>1.0</td>\n",
       "      <td>0.0</td>\n",
       "      <td>0.0</td>\n",
       "      <td>...</td>\n",
       "      <td>0.0</td>\n",
       "      <td>0.0</td>\n",
       "      <td>0.0</td>\n",
       "      <td>0.0</td>\n",
       "      <td>0.0</td>\n",
       "      <td>1.0</td>\n",
       "      <td>0.0</td>\n",
       "      <td>1.0</td>\n",
       "      <td>0.0</td>\n",
       "      <td>0.0</td>\n",
       "    </tr>\n",
       "    <tr>\n",
       "      <th>1</th>\n",
       "      <td>1.000000</td>\n",
       "      <td>0.006993</td>\n",
       "      <td>1.0</td>\n",
       "      <td>0.0</td>\n",
       "      <td>0.0</td>\n",
       "      <td>0.0</td>\n",
       "      <td>0.0</td>\n",
       "      <td>0.0</td>\n",
       "      <td>0.0</td>\n",
       "      <td>0.0</td>\n",
       "      <td>...</td>\n",
       "      <td>0.0</td>\n",
       "      <td>0.0</td>\n",
       "      <td>0.0</td>\n",
       "      <td>0.0</td>\n",
       "      <td>1.0</td>\n",
       "      <td>0.0</td>\n",
       "      <td>0.0</td>\n",
       "      <td>0.0</td>\n",
       "      <td>0.0</td>\n",
       "      <td>1.0</td>\n",
       "    </tr>\n",
       "    <tr>\n",
       "      <th>2</th>\n",
       "      <td>1.000000</td>\n",
       "      <td>0.002664</td>\n",
       "      <td>0.0</td>\n",
       "      <td>0.0</td>\n",
       "      <td>0.0</td>\n",
       "      <td>1.0</td>\n",
       "      <td>0.0</td>\n",
       "      <td>0.0</td>\n",
       "      <td>0.0</td>\n",
       "      <td>0.0</td>\n",
       "      <td>...</td>\n",
       "      <td>0.0</td>\n",
       "      <td>0.0</td>\n",
       "      <td>0.0</td>\n",
       "      <td>0.0</td>\n",
       "      <td>0.0</td>\n",
       "      <td>1.0</td>\n",
       "      <td>0.0</td>\n",
       "      <td>1.0</td>\n",
       "      <td>0.0</td>\n",
       "      <td>1.0</td>\n",
       "    </tr>\n",
       "    <tr>\n",
       "      <th>3</th>\n",
       "      <td>0.454545</td>\n",
       "      <td>0.109223</td>\n",
       "      <td>0.0</td>\n",
       "      <td>0.0</td>\n",
       "      <td>0.0</td>\n",
       "      <td>1.0</td>\n",
       "      <td>0.0</td>\n",
       "      <td>0.0</td>\n",
       "      <td>0.0</td>\n",
       "      <td>0.0</td>\n",
       "      <td>...</td>\n",
       "      <td>0.0</td>\n",
       "      <td>0.0</td>\n",
       "      <td>0.0</td>\n",
       "      <td>0.0</td>\n",
       "      <td>1.0</td>\n",
       "      <td>0.0</td>\n",
       "      <td>0.0</td>\n",
       "      <td>0.0</td>\n",
       "      <td>1.0</td>\n",
       "      <td>1.0</td>\n",
       "    </tr>\n",
       "    <tr>\n",
       "      <th>4</th>\n",
       "      <td>1.000000</td>\n",
       "      <td>0.002997</td>\n",
       "      <td>0.0</td>\n",
       "      <td>0.0</td>\n",
       "      <td>0.0</td>\n",
       "      <td>1.0</td>\n",
       "      <td>0.0</td>\n",
       "      <td>0.0</td>\n",
       "      <td>0.0</td>\n",
       "      <td>0.0</td>\n",
       "      <td>...</td>\n",
       "      <td>0.0</td>\n",
       "      <td>0.0</td>\n",
       "      <td>0.0</td>\n",
       "      <td>0.0</td>\n",
       "      <td>0.0</td>\n",
       "      <td>1.0</td>\n",
       "      <td>0.0</td>\n",
       "      <td>1.0</td>\n",
       "      <td>1.0</td>\n",
       "      <td>1.0</td>\n",
       "    </tr>\n",
       "    <tr>\n",
       "      <th>...</th>\n",
       "      <td>...</td>\n",
       "      <td>...</td>\n",
       "      <td>...</td>\n",
       "      <td>...</td>\n",
       "      <td>...</td>\n",
       "      <td>...</td>\n",
       "      <td>...</td>\n",
       "      <td>...</td>\n",
       "      <td>...</td>\n",
       "      <td>...</td>\n",
       "      <td>...</td>\n",
       "      <td>...</td>\n",
       "      <td>...</td>\n",
       "      <td>...</td>\n",
       "      <td>...</td>\n",
       "      <td>...</td>\n",
       "      <td>...</td>\n",
       "      <td>...</td>\n",
       "      <td>...</td>\n",
       "      <td>...</td>\n",
       "      <td>...</td>\n",
       "    </tr>\n",
       "    <tr>\n",
       "      <th>195</th>\n",
       "      <td>0.636364</td>\n",
       "      <td>0.319677</td>\n",
       "      <td>0.0</td>\n",
       "      <td>0.0</td>\n",
       "      <td>0.0</td>\n",
       "      <td>0.0</td>\n",
       "      <td>0.0</td>\n",
       "      <td>0.0</td>\n",
       "      <td>0.0</td>\n",
       "      <td>0.0</td>\n",
       "      <td>...</td>\n",
       "      <td>0.0</td>\n",
       "      <td>1.0</td>\n",
       "      <td>0.0</td>\n",
       "      <td>0.0</td>\n",
       "      <td>0.0</td>\n",
       "      <td>0.0</td>\n",
       "      <td>0.0</td>\n",
       "      <td>1.0</td>\n",
       "      <td>1.0</td>\n",
       "      <td>1.0</td>\n",
       "    </tr>\n",
       "    <tr>\n",
       "      <th>196</th>\n",
       "      <td>0.363636</td>\n",
       "      <td>0.214117</td>\n",
       "      <td>1.0</td>\n",
       "      <td>0.0</td>\n",
       "      <td>0.0</td>\n",
       "      <td>0.0</td>\n",
       "      <td>0.0</td>\n",
       "      <td>0.0</td>\n",
       "      <td>0.0</td>\n",
       "      <td>0.0</td>\n",
       "      <td>...</td>\n",
       "      <td>0.0</td>\n",
       "      <td>0.0</td>\n",
       "      <td>0.0</td>\n",
       "      <td>0.0</td>\n",
       "      <td>1.0</td>\n",
       "      <td>0.0</td>\n",
       "      <td>0.0</td>\n",
       "      <td>0.0</td>\n",
       "      <td>1.0</td>\n",
       "      <td>1.0</td>\n",
       "    </tr>\n",
       "    <tr>\n",
       "      <th>197</th>\n",
       "      <td>0.636364</td>\n",
       "      <td>0.004329</td>\n",
       "      <td>1.0</td>\n",
       "      <td>0.0</td>\n",
       "      <td>0.0</td>\n",
       "      <td>0.0</td>\n",
       "      <td>0.0</td>\n",
       "      <td>0.0</td>\n",
       "      <td>0.0</td>\n",
       "      <td>0.0</td>\n",
       "      <td>...</td>\n",
       "      <td>0.0</td>\n",
       "      <td>0.0</td>\n",
       "      <td>0.0</td>\n",
       "      <td>0.0</td>\n",
       "      <td>1.0</td>\n",
       "      <td>0.0</td>\n",
       "      <td>0.0</td>\n",
       "      <td>0.0</td>\n",
       "      <td>1.0</td>\n",
       "      <td>1.0</td>\n",
       "    </tr>\n",
       "    <tr>\n",
       "      <th>198</th>\n",
       "      <td>0.727273</td>\n",
       "      <td>0.198466</td>\n",
       "      <td>0.0</td>\n",
       "      <td>0.0</td>\n",
       "      <td>0.0</td>\n",
       "      <td>1.0</td>\n",
       "      <td>0.0</td>\n",
       "      <td>0.0</td>\n",
       "      <td>0.0</td>\n",
       "      <td>0.0</td>\n",
       "      <td>...</td>\n",
       "      <td>0.0</td>\n",
       "      <td>0.0</td>\n",
       "      <td>0.0</td>\n",
       "      <td>0.0</td>\n",
       "      <td>1.0</td>\n",
       "      <td>0.0</td>\n",
       "      <td>0.0</td>\n",
       "      <td>1.0</td>\n",
       "      <td>1.0</td>\n",
       "      <td>1.0</td>\n",
       "    </tr>\n",
       "    <tr>\n",
       "      <th>199</th>\n",
       "      <td>0.363636</td>\n",
       "      <td>0.112553</td>\n",
       "      <td>1.0</td>\n",
       "      <td>0.0</td>\n",
       "      <td>0.0</td>\n",
       "      <td>0.0</td>\n",
       "      <td>0.0</td>\n",
       "      <td>0.0</td>\n",
       "      <td>0.0</td>\n",
       "      <td>0.0</td>\n",
       "      <td>...</td>\n",
       "      <td>0.0</td>\n",
       "      <td>0.0</td>\n",
       "      <td>0.0</td>\n",
       "      <td>0.0</td>\n",
       "      <td>0.0</td>\n",
       "      <td>1.0</td>\n",
       "      <td>0.0</td>\n",
       "      <td>1.0</td>\n",
       "      <td>1.0</td>\n",
       "      <td>0.0</td>\n",
       "    </tr>\n",
       "  </tbody>\n",
       "</table>\n",
       "<p>200 rows × 22 columns</p>\n",
       "</div>"
      ],
      "text/plain": [
       "       Rating   Reviews  Place type_Cafe  Place type_Chocolate shop  \\\n",
       "0    0.636364  0.067598              0.0                        0.0   \n",
       "1    1.000000  0.006993              1.0                        0.0   \n",
       "2    1.000000  0.002664              0.0                        0.0   \n",
       "3    0.454545  0.109223              0.0                        0.0   \n",
       "4    1.000000  0.002997              0.0                        0.0   \n",
       "..        ...       ...              ...                        ...   \n",
       "195  0.636364  0.319677              0.0                        0.0   \n",
       "196  0.363636  0.214117              1.0                        0.0   \n",
       "197  0.636364  0.004329              1.0                        0.0   \n",
       "198  0.727273  0.198466              0.0                        0.0   \n",
       "199  0.363636  0.112553              1.0                        0.0   \n",
       "\n",
       "     Place type_Coffee roasters  Place type_Coffee shop  \\\n",
       "0                           0.0                     0.0   \n",
       "1                           0.0                     0.0   \n",
       "2                           0.0                     1.0   \n",
       "3                           0.0                     1.0   \n",
       "4                           0.0                     1.0   \n",
       "..                          ...                     ...   \n",
       "195                         0.0                     0.0   \n",
       "196                         0.0                     0.0   \n",
       "197                         0.0                     0.0   \n",
       "198                         0.0                     1.0   \n",
       "199                         0.0                     0.0   \n",
       "\n",
       "     Place type_Coffee stand  Place type_Coffee store  \\\n",
       "0                        0.0                      1.0   \n",
       "1                        0.0                      0.0   \n",
       "2                        0.0                      0.0   \n",
       "3                        0.0                      0.0   \n",
       "4                        0.0                      0.0   \n",
       "..                       ...                      ...   \n",
       "195                      0.0                      0.0   \n",
       "196                      0.0                      0.0   \n",
       "197                      0.0                      0.0   \n",
       "198                      0.0                      0.0   \n",
       "199                      0.0                      0.0   \n",
       "\n",
       "     Place type_E-commerce service  Place type_Espresso bar  ...  \\\n",
       "0                              0.0                      0.0  ...   \n",
       "1                              0.0                      0.0  ...   \n",
       "2                              0.0                      0.0  ...   \n",
       "3                              0.0                      0.0  ...   \n",
       "4                              0.0                      0.0  ...   \n",
       "..                             ...                      ...  ...   \n",
       "195                            0.0                      0.0  ...   \n",
       "196                            0.0                      0.0  ...   \n",
       "197                            0.0                      0.0  ...   \n",
       "198                            0.0                      0.0  ...   \n",
       "199                            0.0                      0.0  ...   \n",
       "\n",
       "     Place type_Pastry shop  Place type_Restaurant  Place type_Store  \\\n",
       "0                       0.0                    0.0               0.0   \n",
       "1                       0.0                    0.0               0.0   \n",
       "2                       0.0                    0.0               0.0   \n",
       "3                       0.0                    0.0               0.0   \n",
       "4                       0.0                    0.0               0.0   \n",
       "..                      ...                    ...               ...   \n",
       "195                     0.0                    1.0               0.0   \n",
       "196                     0.0                    0.0               0.0   \n",
       "197                     0.0                    0.0               0.0   \n",
       "198                     0.0                    0.0               0.0   \n",
       "199                     0.0                    0.0               0.0   \n",
       "\n",
       "     Price_Low  Price_Medium  Price_Unknown  Delivery option_True  \\\n",
       "0          0.0           0.0            1.0                   0.0   \n",
       "1          0.0           1.0            0.0                   0.0   \n",
       "2          0.0           0.0            1.0                   0.0   \n",
       "3          0.0           1.0            0.0                   0.0   \n",
       "4          0.0           0.0            1.0                   0.0   \n",
       "..         ...           ...            ...                   ...   \n",
       "195        0.0           0.0            0.0                   0.0   \n",
       "196        0.0           1.0            0.0                   0.0   \n",
       "197        0.0           1.0            0.0                   0.0   \n",
       "198        0.0           1.0            0.0                   0.0   \n",
       "199        0.0           0.0            1.0                   0.0   \n",
       "\n",
       "     Delivery option_Unknown  Dine in option_True  Takeout option_True  \n",
       "0                        1.0                  0.0                  0.0  \n",
       "1                        0.0                  0.0                  1.0  \n",
       "2                        1.0                  0.0                  1.0  \n",
       "3                        0.0                  1.0                  1.0  \n",
       "4                        1.0                  1.0                  1.0  \n",
       "..                       ...                  ...                  ...  \n",
       "195                      1.0                  1.0                  1.0  \n",
       "196                      0.0                  1.0                  1.0  \n",
       "197                      0.0                  1.0                  1.0  \n",
       "198                      1.0                  1.0                  1.0  \n",
       "199                      1.0                  1.0                  0.0  \n",
       "\n",
       "[200 rows x 22 columns]"
      ]
     },
     "execution_count": 32,
     "metadata": {},
     "output_type": "execute_result"
    }
   ],
   "source": [
    "scaled"
   ]
  },
  {
   "cell_type": "markdown",
   "id": "7fd2004f-2243-4101-ba94-4aeff4e6ed1e",
   "metadata": {
    "tags": []
   },
   "source": [
    "## Clustering"
   ]
  },
  {
   "cell_type": "markdown",
   "id": "b53af6ef-b84b-47ef-9072-88420ae73512",
   "metadata": {},
   "source": [
    "As can be seen below, the dendrogram (from hierarchical clustering) suggests that the ideal number of clusters could alternatively be 4 or 6.\n",
    "\n",
    "The elbow method plot, instead, suggests that the ideal number of clusters could alternatively be 4 or 5.\n",
    "\n",
    "Therefore, the number of clusters chosen is 4. Furthermore, it can be observed that the clusters assigned by the two algorithms coincide almost perfectly. Consequently, we are going to give a unique interpretation of the clusters built by taking the results of hierarchical clustering as point of reference."
   ]
  },
  {
   "cell_type": "markdown",
   "id": "f3deecd9-a469-4e5d-9080-600aa4121beb",
   "metadata": {
    "tags": []
   },
   "source": [
    "#### Hierarchical Clustering"
   ]
  },
  {
   "cell_type": "code",
   "execution_count": 33,
   "id": "34ef7ac4-9650-47d4-a3d0-2ac936e175b9",
   "metadata": {},
   "outputs": [
    {
     "data": {
      "image/png": "[encoded data removed]",
      "text/plain": [
       "<Figure size 432x288 with 1 Axes>"
      ]
     },
     "metadata": {
      "needs_background": "light"
     },
     "output_type": "display_data"
    }
   ],
   "source": [
    "Z = linkage(scaled,\n",
    "            method='ward',\n",
    "            metric='euclidean')\n",
    "dn = dendrogram(Z)\n",
    "plt.show()"
   ]
  },
  {
   "cell_type": "code",
   "execution_count": 34,
   "id": "f738e463-bdea-48ef-9a10-fe5024b722bd",
   "metadata": {},
   "outputs": [],
   "source": [
    "df['cluster_labels'] = fcluster(Z, 4, criterion='maxclust')"
   ]
  },
  {
   "cell_type": "markdown",
   "id": "0e9a9c60-c75f-4d77-b515-f70d299c3140",
   "metadata": {
    "tags": []
   },
   "source": [
    "#### K-means clustering"
   ]
  },
  {
   "cell_type": "code",
   "execution_count": 35,
   "id": "1356eab0-2866-4536-8753-c22ff1db8b64",
   "metadata": {},
   "outputs": [
    {
     "data": {
      "image/png": "[encoded data removed]",
      "text/plain": [
       "<Figure size 720x576 with 1 Axes>"
      ]
     },
     "metadata": {
      "needs_background": "light"
     },
     "output_type": "display_data"
    }
   ],
   "source": [
    "WCSS = []\n",
    "\n",
    "for i in range(1,21):\n",
    "    kmeans = KMeans(n_clusters = i, init='k-means++', random_state=42)\n",
    "    kmeans.fit(scaled)\n",
    "    WCSS.append(kmeans.inertia_)\n",
    "                      \n",
    "\n",
    "plt.figure(figsize=(10,8))\n",
    "plt.plot(range(1,21), WCSS, marker = 'o', linestyle = '--')\n",
    "plt.xlabel('Number of Clusters')\n",
    "plt.ylabel('WCSS')\n",
    "plt.title('K-Means with PCA Clustering')\n",
    "plt.show()"
   ]
  },
  {
   "cell_type": "code",
   "execution_count": 36,
   "id": "ce8e08ee-7404-4d9e-8c8d-5d2e2593fee9",
   "metadata": {},
   "outputs": [],
   "source": [
    "kmeans = KMeans(n_clusters = 4, init='k-means++', random_state=42)\n",
    "\n",
    "kmeans.fit(scaled)\n",
    "\n",
    "df['kmeans_labels'] = kmeans.labels_"
   ]
  },
  {
   "cell_type": "markdown",
   "id": "fe8f7540-dcaa-4918-a4e5-a058cfafc2bc",
   "metadata": {},
   "source": [
    "#### Clusters interpretation"
   ]
  },
  {
   "cell_type": "code",
   "execution_count": 37,
   "id": "97743f34-c685-4163-9b12-0251e87a6743",
   "metadata": {},
   "outputs": [
    {
     "data": {
      "text/plain": [
       "cluster_labels\n",
       "1    34\n",
       "2    45\n",
       "3    38\n",
       "4    83\n",
       "Name: Region, dtype: int64"
      ]
     },
     "execution_count": 37,
     "metadata": {},
     "output_type": "execute_result"
    }
   ],
   "source": [
    "df.groupby('cluster_labels')['Region'].count()"
   ]
  },
  {
   "cell_type": "code",
   "execution_count": 38,
   "id": "344d8fa0-b0cb-440b-b2fc-00f82e1e8816",
   "metadata": {},
   "outputs": [
    {
     "data": {
      "image/png": "[encoded data removed]",
      "text/plain": [
       "<Figure size 432x288 with 1 Axes>"
      ]
     },
     "metadata": {
      "needs_background": "light"
     },
     "output_type": "display_data"
    }
   ],
   "source": [
    "sns.boxplot(x= 'cluster_labels', y = 'Rating', data = df)\n",
    "plt.show()"
   ]
  },
  {
   "cell_type": "code",
   "execution_count": 39,
   "id": "dcf7fb7c-e1aa-4ad1-acdd-a308a5633917",
   "metadata": {},
   "outputs": [
    {
     "data": {
      "image/png": "[encoded data removed]",
      "text/plain": [
       "<Figure size 432x288 with 1 Axes>"
      ]
     },
     "metadata": {
      "needs_background": "light"
     },
     "output_type": "display_data"
    }
   ],
   "source": [
    "sns.boxplot(x= 'cluster_labels', y = 'Reviews', data = df)\n",
    "plt.show()"
   ]
  },
  {
   "cell_type": "code",
   "execution_count": 40,
   "id": "944bb3f4-c8ae-48f6-8acf-d944315b9f8a",
   "metadata": {},
   "outputs": [
    {
     "data": {
      "text/plain": [
       "cluster_labels  Place type              \n",
       "1               Appliance repair service     1\n",
       "                Coffee roasters              1\n",
       "                Coffee shop                 16\n",
       "                Coffee store                 9\n",
       "                E-commerce service           1\n",
       "                Espresso bar                 2\n",
       "                Internet shop                1\n",
       "                Store                        3\n",
       "2               Cafe                        18\n",
       "                Coffee roasters              1\n",
       "                Coffee shop                 18\n",
       "                Coffee store                 2\n",
       "                Espresso bar                 5\n",
       "                Pastry shop                  1\n",
       "3               Cafe                        37\n",
       "                Restaurant                   1\n",
       "4               Cafe                         3\n",
       "                Chocolate shop               1\n",
       "                Coffee shop                 63\n",
       "                Coffee stand                 1\n",
       "                Espresso bar                13\n",
       "                European restaurant          1\n",
       "                Pastry shop                  1\n",
       "Name: Place name, dtype: int64"
      ]
     },
     "execution_count": 40,
     "metadata": {},
     "output_type": "execute_result"
    }
   ],
   "source": [
    "df.groupby(['cluster_labels', 'Place type'])['Place name'].count()"
   ]
  },
  {
   "cell_type": "code",
   "execution_count": 41,
   "id": "25dd5404-9a5e-4048-a2c3-67da3d5c46e2",
   "metadata": {},
   "outputs": [
    {
     "data": {
      "text/plain": [
       "cluster_labels  Price  \n",
       "1               Medium      1\n",
       "                Unknown    33\n",
       "2               High        1\n",
       "                Unknown    44\n",
       "3               High        2\n",
       "                Low         1\n",
       "                Medium     35\n",
       "4               High        1\n",
       "                Low         1\n",
       "                Medium     80\n",
       "                Unknown     1\n",
       "Name: Place name, dtype: int64"
      ]
     },
     "execution_count": 41,
     "metadata": {},
     "output_type": "execute_result"
    }
   ],
   "source": [
    "df.groupby(['cluster_labels', 'Price'])['Place name'].count()"
   ]
  },
  {
   "cell_type": "code",
   "execution_count": 42,
   "id": "0eb88578-5cee-4426-bb21-05a02261ccad",
   "metadata": {},
   "outputs": [
    {
     "data": {
      "text/plain": [
       "cluster_labels  Delivery option\n",
       "1               False               2\n",
       "                True                6\n",
       "                Unknown            26\n",
       "2               False              22\n",
       "                True                5\n",
       "                Unknown            18\n",
       "3               False              14\n",
       "                True               11\n",
       "                Unknown            13\n",
       "4               False              56\n",
       "                True               13\n",
       "                Unknown            14\n",
       "Name: Place name, dtype: int64"
      ]
     },
     "execution_count": 42,
     "metadata": {},
     "output_type": "execute_result"
    }
   ],
   "source": [
    "df.groupby(['cluster_labels', 'Delivery option'])['Place name'].count()"
   ]
  },
  {
   "cell_type": "code",
   "execution_count": 43,
   "id": "5ba5ebb5-1fef-4ed5-b6c8-7e5760b8ba0e",
   "metadata": {},
   "outputs": [
    {
     "data": {
      "text/plain": [
       "cluster_labels  Dine in option\n",
       "1               False             27\n",
       "                True               7\n",
       "2               False             18\n",
       "                True              27\n",
       "3               False              1\n",
       "                True              37\n",
       "4               False             14\n",
       "                True              69\n",
       "Name: Place name, dtype: int64"
      ]
     },
     "execution_count": 43,
     "metadata": {},
     "output_type": "execute_result"
    }
   ],
   "source": [
    "df.groupby(['cluster_labels', 'Dine in option'])['Place name'].count()"
   ]
  },
  {
   "cell_type": "code",
   "execution_count": 44,
   "id": "642d1c15-fb9d-4f94-9396-fb8bf9177580",
   "metadata": {},
   "outputs": [
    {
     "data": {
      "text/plain": [
       "cluster_labels  Takeout option\n",
       "1               False             34\n",
       "2               False              5\n",
       "                True              40\n",
       "3               False              5\n",
       "                True              33\n",
       "4               False             12\n",
       "                True              71\n",
       "Name: Place name, dtype: int64"
      ]
     },
     "execution_count": 44,
     "metadata": {},
     "output_type": "execute_result"
    }
   ],
   "source": [
    "df.groupby(['cluster_labels', 'Takeout option'])['Place name'].count()"
   ]
  },
  {
   "cell_type": "markdown",
   "id": "cae11141-f49a-4429-8cc2-e29040257b2f",
   "metadata": {},
   "source": [
    "Cluster 1 (n=34): highest ratings, very low number of reviews, mainly coffee shops or coffee stores whose price category is unknown. Their delivery option is mainly unknown (even if there are some shops offering it). Almost 80% of them do not offer the dine-in option, while the remaining 20% do so. No one of them offers the takeout option.\n",
    "\n",
    "Cluster 2 (n=45): higher ratings, lowest number of reviews, mainly cafes or coffee shops whose price category is unknown. The delivery option is either unknown or not offered. Exactly 80% of them do offer the dine-in option, while 20% of them do not. About 88% of them offer the takeout option.\n",
    "\n",
    "Cluster 3 (n=38): lowest ratings, very high number of reviews, mainly cafes having a 'medium' price category. The delivery option is almost equally distributed between offered, not offered and unknown. Almost every of them offers the dine-in option. About 87% of them offer the takeout option.\n",
    "\n",
    "Cluster 4 (n=83): lower ratings, highest number of reviews, mainly coffee shops and espresso bars having a 'medium' price category. The delivery option is mainly not offered. The vast majority of them offers the dine-in option. About 86% of them offer the takeout option."
   ]
  },
  {
   "cell_type": "markdown",
   "id": "c86a7c95-5d5b-454b-8e48-8d5c6f773bf9",
   "metadata": {
    "tags": []
   },
   "source": [
    "### Insights"
   ]
  },
  {
   "cell_type": "markdown",
   "id": "8b779c4d-ee16-41dc-9b2f-b57c5ebaf10b",
   "metadata": {},
   "source": [
    "#### Business interpretations"
   ]
  },
  {
   "cell_type": "markdown",
   "id": "7081c393-6397-4cd2-b0fe-2f222c4caf8d",
   "metadata": {},
   "source": [
    "The Ukrainian coffee market shows good potential from a business expansion perspective and is divided as follows:\n",
    "\n",
    "Newly-opened likely deliverers (1): these are shops that are not very well known (very low number of reviews) but are loved by their customers (highest ratings, on average). There is not enough information on their price range or whether they deliver coffee or not, but since they do not offer the dine in and takeout options, and being mostly coffee shops and coffee stores, it can be assumed that they are newly opened shops that actually carry out the delivery service.\n",
    "\n",
    "Newly-opened coffee servers (2): these are shops that are poorly known (lowest number of reviews) but are highly appreciated by their customers (high ratings, on average). There is not enough information on their price range or whether they deliver coffee or not (some of them definitely do not), but since most of them offer the dine in and takeout options, and being mostly cafes or coffee shops, it can be assumed that they are newly opened shops mainly focused on serving the coffee on site rather than delivering it.\n",
    "\n",
    "Well-established cafes which also deliver (3): these are shops that are very well known (very high number of reviews) but are less appreciated by their customers if compared to first 2 competitors (lowest ratings, on average). Their price category is 'medium'. They either serve or deliver coffee and offer the dine-in and takeout options as well, mainly being cafes that have tried to benefit from recent market dynamics.\n",
    "\n",
    "Well-established traditional bars and shops (4): these are very famous shops (highest number of reviews) but are less appreciated by their customers if compared to first 2 competitors (low ratings, on average). Their price category is 'medium'. They do not offer the delivery option, while they do offer the dine-in and takeout options, being traditional bars and shops which haven't tried to expand through delivery."
   ]
  },
  {
   "cell_type": "markdown",
   "id": "3776b6cb-8b72-4756-b387-6c4746aa1265",
   "metadata": {},
   "source": [
    "#### Suggestions"
   ]
  },
  {
   "cell_type": "markdown",
   "id": "4f5b9366-b190-4818-bc2a-8134e8f575c2",
   "metadata": {},
   "source": [
    "Some shops have recently started trying to fill the Ukrainian coffee delivery segment. Furthermore, judging by the appreciation received, it would appear that they are doing well and that Ukrainians are ready for this type of buying approach. The development possibilities for our company, in case of expansion in this geographic market, are concrete but not free from risks. It was also noted that the delivery shops are mainly located in Odessa, Kiev and Zaporozhye."
   ]
  },
  {
   "cell_type": "code",
   "execution_count": 55,
   "id": "01410686-74a4-4f01-b430-cdff0ef41791",
   "metadata": {},
   "outputs": [
    {
     "data": {
      "text/plain": [
       "cluster_labels  Region    \n",
       "1               Odessa        9\n",
       "                Kiev          7\n",
       "                Zaporozhye    6\n",
       "                Poltava       4\n",
       "                Dnipro        3\n",
       "                Kharkiv       3\n",
       "                Kherson       1\n",
       "                Mariupol      1\n",
       "Name: Place name, dtype: int64"
      ]
     },
     "execution_count": 55,
     "metadata": {},
     "output_type": "execute_result"
    }
   ],
   "source": [
    "df[df['cluster_labels']==1].groupby(['cluster_labels', 'Region'])['Place name'].count().sort_values(ascending=False)"
   ]
  },
  {
   "cell_type": "markdown",
   "id": "cca9551a-d19c-4400-a340-9402605587a9",
   "metadata": {},
   "source": [
    "It is therefore recommended to:\n",
    "1. On the one hand, it could be convenient to enter the Ukrainian coffee market by focusing on the locations where the deliverers are not yet present, so as to postpone the competition over time until eventually we want to expand further on Ukrainian soil (although it would be useful to know their delivery range as it is not certain that they operate only locally). On the other hand, it could be that where the deliverers are not yet present, there is no target clientele ready for this purchasing approach (and even in this case it would be useful to collect further information)\n",
    "2. Collect more complete information in order to clarify the doubts that have emerged, but also to understand the market positioning of the shops in the critical cluster (e.g. being able to know their price range).\n",
    "2. With more information available, the analysis can be refined and thus become an even more solid support for the decision to enter the Ukrainian coffee market (and how) or not."
   ]
  }
 ],
 "metadata": {
  "colab": {
   "name": "Welcome to DataCamp Workspaces.ipynb",
   "provenance": []
  },
  "kernelspec": {
   "display_name": "Python 3",
   "language": "python",
   "name": "python3"
  },
  "language_info": {
   "codemirror_mode": {
    "name": "ipython",
    "version": 3
   },
   "file_extension": ".py",
   "mimetype": "text/x-python",
   "name": "python",
   "nbconvert_exporter": "python",
   "pygments_lexer": "ipython3",
   "version": "3.9.7"
  }
 },
 "nbformat": 4,
 "nbformat_minor": 5
}
